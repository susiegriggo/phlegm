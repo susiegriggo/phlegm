{
 "cells": [
  {
   "cell_type": "markdown",
   "id": "153ca480-1214-4f63-a21a-8f6a24c60c86",
   "metadata": {},
   "source": [
    "# See which have completed "
   ]
  },
  {
   "cell_type": "code",
   "execution_count": 3,
   "id": "f082729c-d864-44ae-943f-f69704ce9ab0",
   "metadata": {},
   "outputs": [],
   "source": [
    "# imports \n",
    "import pandas as pd \n",
    "import pickle\n",
    "import glob\n",
    "import re\n",
    "from collections import Counter\n",
    "from Bio import SeqIO\n",
    "import seaborn as sns"
   ]
  },
  {
   "cell_type": "code",
   "execution_count": 4,
   "id": "99473913-55eb-459c-bcf8-947d7eb495e2",
   "metadata": {},
   "outputs": [],
   "source": [
    "# out of the AlphaFold completed proteins see what still needs to be done \n",
    "with open('../files/phrogs_pass_plddt_length_threshold.txt', 'r') as file:\n",
    "    phrogs_filtered =  [line.strip() for line in file]\n",
    "    \n",
    "# proteins in the validation set\n",
    "alphafold_known_state = pickle.load(open('/home/grig0076/GitHubs/phlegm/files/phrogs_pass_plddt_length_threshold_oligomeric_state.pkl', 'rb'))\n",
    "known_state_keys = list(alphafold_known_state.keys())"
   ]
  },
  {
   "cell_type": "code",
   "execution_count": 5,
   "id": "7861f75c-8399-4d84-88a5-2a99035f8332",
   "metadata": {},
   "outputs": [],
   "source": [
    "# read in the completed paths \n",
    "# read in the metrics generated for the 25,000+ phrogs\n",
    "part_1 = glob.glob('/home/grig0076/scratch/phlegm/PHROGs/phrog_representative_structures/nonsingleton_representative_sequences.part_001.phlegm/metrics_pickle/*.pkl')\n",
    "part_2 = glob.glob('/home/grig0076/scratch/phlegm/PHROGs/phrog_representative_structures/nonsingleton_representative_sequences.part_002.phlegm/metrics_pickle/*.pkl')\n",
    "part_3 = glob.glob('/home/grig0076/scratch/phlegm/PHROGs/phrog_representative_structures/nonsingleton_representative_sequences.part_003.phlegm/metrics_pickle/*.pkl')\n",
    "part_4 = glob.glob('/home/grig0076/scratch/phlegm/PHROGs/phrog_representative_structures/nonsingleton_representative_sequences.part_004.phlegm/metrics_pickle/*.pkl')\n",
    "part_5 = glob.glob('/home/grig0076/scratch/phlegm/PHROGs/phrog_representative_structures/nonsingleton_representative_sequences.part_005.phlegm/metrics_pickle/*.pkl')\n",
    "part_6 = glob.glob('/home/grig0076/scratch/phlegm/PHROGs/phrog_representative_structures/nonsingleton_representative_sequences.part_006.phlegm/metrics_pickle/*.pkl') \n",
    "part_7 = glob.glob('/home/grig0076/scratch/phlegm/PHROGs/phrog_representative_structures/nonsingleton_representative_sequences.part_007.phlegm/metrics_pickle/*.pkl')\n",
    "part_8 = glob.glob('/home/grig0076/scratch/phlegm/PHROGs/phrog_representative_structures/nonsingleton_representative_sequences.part_008.phlegm/metrics_pickle/*.pkl')\n",
    "all_parts =  part_1 + part_2 + part_3 + part_4 + part_5 + part_6 + part_7 + part_8"
   ]
  },
  {
   "cell_type": "code",
   "execution_count": 6,
   "id": "4839d489-43cc-4def-8ddc-44f223c0409f",
   "metadata": {},
   "outputs": [],
   "source": [
    "all_phrogs_pickle_complete = [re.split('/', p)[-1][:-4] for p in all_parts] \n",
    "\n",
    "# make a dictionary that map|s the phrog to its metrics path \n",
    "pickle_paths = dict(zip(all_phrogs_pickle_complete, all_parts))"
   ]
  },
  {
   "cell_type": "code",
   "execution_count": 7,
   "id": "e817d241-afeb-42b0-b4a2-be82243ad5f8",
   "metadata": {},
   "outputs": [],
   "source": [
    "# get the proteins in the 876 subset that didn't complete \n",
    "subunit_strings = ['2', '3', '4', '5', '6', '7', '8', '9', '10']\n",
    "required_a3ms = [] \n",
    "phrogs_updating = [] \n",
    "phrogs_updating_paths = [] \n",
    " \n",
    "# will need to recompute stuff for the things here that failed \n",
    "for k in known_state_keys: \n",
    " \n",
    "    metrics = pickle.load(open(pickle_paths.get(k), 'rb'))\n",
    "    subunits_present = [re.split('_', i)[0] for i in list(metrics.keys())]\n",
    "    subunits_missing = set(subunit_strings) - set(subunits_present) \n",
    "    \n",
    "    for s in list(subunits_missing): \n",
    "        string = k + '.' + s + '.a3m'\n",
    "        if k == 'phrog_32676': \n",
    "            print(k)\n",
    "        required_a3ms.append(string)\n",
    "        \n",
    "    if len(subunits_missing) > 0: \n",
    "        phrogs_updating.append(k)\n",
    "        phrogs_updating_paths.append(pickle_paths.get(k)) \n",
    "        \n",
    "# Save the list to a text file\n",
    "with open('required_a3ms.txt', 'w') as f:\n",
    "    for item in required_a3ms:\n",
    "        f.write(f\"{item}\\n\")\n",
    "        \n",
    "with open('paths_updating.txt', 'w') as f: \n",
    "    for item in phrogs_updating_paths: \n",
    "        f.write(f\"{item}\\n\")"
   ]
  },
  {
   "cell_type": "code",
   "execution_count": 8,
   "id": "52a69d07-ebca-4341-91c7-9720a26fda92",
   "metadata": {},
   "outputs": [],
   "source": [
    "# import the sequences so can see how long they are \n",
    "fasta_dict = {record.id: str(record.seq) for record in SeqIO.parse(\"../files/nonsingleton_representative_sequences.fasta\", \"fasta\")}\n",
    "\n",
    "# get the length of each phrog \n",
    "seq_lengths = [len(f) for f in list(fasta_dict.values())]\n",
    "\n",
    "# fetch the lengths that could not be folded up to a 10-mer complex \n",
    "failed_length = [len(fasta_dict.get(p)) for p in phrogs_updating] "
   ]
  },
  {
   "cell_type": "markdown",
   "id": "04252aa5-e4fe-4de5-a84f-710f4c1a2ea1",
   "metadata": {},
   "source": [
    "## check the progress of the ones that should be included "
   ]
  },
  {
   "cell_type": "code",
   "execution_count": 9,
   "id": "cea13957-ddd5-4367-a632-529f99bf9c1b",
   "metadata": {},
   "outputs": [],
   "source": [
    "filtered_phrogs = pd.read_csv('../files/phrogs_pass_plddt_length_threshold.txt', header=None)[0].to_list()\n",
    "\n",
    "subunit_strings = ['2', '3', '4', '5', '6', '7', '8', '9', '10']\n",
    "required_a3ms = [] \n",
    "phrogs_updating = [] \n",
    "phrogs_updating_paths = [] \n",
    " \n",
    "# will need to recompute stuff for the things here that failed \n",
    "for k in filtered_phrogs: \n",
    "    \n",
    " \n",
    "    if k in list(pickle_paths.keys()): \n",
    "        \n",
    "        metrics = pickle.load(open(pickle_paths.get(k), 'rb'))\n",
    "        subunits_present = [re.split('_', i)[0] for i in list(metrics.keys())]\n",
    "        subunits_missing = set(subunit_strings) - set(subunits_present) \n",
    "\n",
    "        for s in list(subunits_missing): \n",
    "            string = k + '.' + s + '.a3m'\n",
    "            required_a3ms.append(string)\n",
    "\n",
    "        if len(subunits_missing) > 0: \n",
    "            phrogs_updating.append(k)\n",
    "            phrogs_updating_paths.append(pickle_paths.get(k))\n",
    "            \n",
    "    else: \n",
    "     \n",
    "        for s in list(subunit_strings): \n",
    "            string = k + '.' + s + '.a3m'\n",
    "            required_a3ms.append(string)"
   ]
  },
  {
   "cell_type": "code",
   "execution_count": 8,
   "id": "b3125ab7-97d9-4a78-9e6e-8da9d424c5e6",
   "metadata": {},
   "outputs": [],
   "source": [
    "metrics = pickle.load(open('/home/grig0076/scratch/phlegm/PHROGs/phrog_representative_structures/nonsingleton_representative_sequences.part_006.phlegm/need_updating/metrics_pickle/phrog_32002.pkl', 'rb'))"
   ]
  }
 ],
 "metadata": {
  "kernelspec": {
   "display_name": "Python 3",
   "language": "python",
   "name": "python3"
  },
  "language_info": {
   "codemirror_mode": {
    "name": "ipython",
    "version": 3
   },
   "file_extension": ".py",
   "mimetype": "text/x-python",
   "name": "python",
   "nbconvert_exporter": "python",
   "pygments_lexer": "ipython3",
   "version": "3.9.16"
  }
 },
 "nbformat": 4,
 "nbformat_minor": 5
}
