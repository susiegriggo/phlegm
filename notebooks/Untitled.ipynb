{
 "cells": [
  {
   "cell_type": "code",
   "execution_count": 1,
   "id": "9ac59877-a578-4731-845f-47a9fdc02990",
   "metadata": {},
   "outputs": [
    {
     "name": "stdout",
     "output_type": "stream",
     "text": [
      "Looking in indexes: https://pypi.org/simple, https://pypi.ngc.nvidia.com\n",
      "Collecting ridgeplot\n",
      "  Downloading ridgeplot-0.3.2-py3-none-any.whl.metadata (10 kB)\n",
      "Requirement already satisfied: numpy>=1 in /home/grig0076/miniconda3/envs/glm2/lib/python3.12/site-packages (from ridgeplot) (1.26.4)\n",
      "Collecting plotly>=5.20 (from ridgeplot)\n",
      "  Downloading plotly-6.2.0-py3-none-any.whl.metadata (8.5 kB)\n",
      "Collecting statsmodels!=0.14.2,>=0.12 (from ridgeplot)\n",
      "  Downloading statsmodels-0.14.5-cp312-cp312-manylinux2014_x86_64.manylinux_2_17_x86_64.manylinux_2_28_x86_64.whl.metadata (9.5 kB)\n",
      "Requirement already satisfied: typing-extensions in /home/grig0076/miniconda3/envs/glm2/lib/python3.12/site-packages (from ridgeplot) (4.12.2)\n",
      "Collecting narwhals>=1.15.1 (from plotly>=5.20->ridgeplot)\n",
      "  Downloading narwhals-2.0.1-py3-none-any.whl.metadata (11 kB)\n",
      "Requirement already satisfied: packaging in /home/grig0076/miniconda3/envs/glm2/lib/python3.12/site-packages (from plotly>=5.20->ridgeplot) (24.1)\n",
      "Collecting scipy!=1.9.2,>=1.8 (from statsmodels!=0.14.2,>=0.12->ridgeplot)\n",
      "  Downloading scipy-1.16.1-cp312-cp312-manylinux2014_x86_64.manylinux_2_17_x86_64.whl.metadata (61 kB)\n",
      "Requirement already satisfied: pandas!=2.1.0,>=1.4 in /home/grig0076/miniconda3/envs/glm2/lib/python3.12/site-packages (from statsmodels!=0.14.2,>=0.12->ridgeplot) (2.2.2)\n",
      "Collecting patsy>=0.5.6 (from statsmodels!=0.14.2,>=0.12->ridgeplot)\n",
      "  Downloading patsy-1.0.1-py2.py3-none-any.whl.metadata (3.3 kB)\n",
      "Requirement already satisfied: python-dateutil>=2.8.2 in /home/grig0076/miniconda3/envs/glm2/lib/python3.12/site-packages (from pandas!=2.1.0,>=1.4->statsmodels!=0.14.2,>=0.12->ridgeplot) (2.9.0)\n",
      "Requirement already satisfied: pytz>=2020.1 in /home/grig0076/miniconda3/envs/glm2/lib/python3.12/site-packages (from pandas!=2.1.0,>=1.4->statsmodels!=0.14.2,>=0.12->ridgeplot) (2024.1)\n",
      "Requirement already satisfied: tzdata>=2022.7 in /home/grig0076/miniconda3/envs/glm2/lib/python3.12/site-packages (from pandas!=2.1.0,>=1.4->statsmodels!=0.14.2,>=0.12->ridgeplot) (2024.1)\n",
      "Requirement already satisfied: six>=1.5 in /home/grig0076/miniconda3/envs/glm2/lib/python3.12/site-packages (from python-dateutil>=2.8.2->pandas!=2.1.0,>=1.4->statsmodels!=0.14.2,>=0.12->ridgeplot) (1.16.0)\n",
      "Downloading ridgeplot-0.3.2-py3-none-any.whl (58 kB)\n",
      "Downloading plotly-6.2.0-py3-none-any.whl (9.6 MB)\n",
      "\u001b[2K   \u001b[90m━━━━━━━━━━━━━━━━━━━━━━━━━━━━━━━━━━━━━━━━\u001b[0m \u001b[32m9.6/9.6 MB\u001b[0m \u001b[31m87.4 MB/s\u001b[0m eta \u001b[36m0:00:00\u001b[0m\n",
      "\u001b[?25hDownloading statsmodels-0.14.5-cp312-cp312-manylinux2014_x86_64.manylinux_2_17_x86_64.manylinux_2_28_x86_64.whl (10.4 MB)\n",
      "\u001b[2K   \u001b[90m━━━━━━━━━━━━━━━━━━━━━━━━━━━━━━━━━━━━━━━━\u001b[0m \u001b[32m10.4/10.4 MB\u001b[0m \u001b[31m95.4 MB/s\u001b[0m eta \u001b[36m0:00:00\u001b[0m\n",
      "\u001b[?25hDownloading narwhals-2.0.1-py3-none-any.whl (385 kB)\n",
      "Downloading patsy-1.0.1-py2.py3-none-any.whl (232 kB)\n",
      "Downloading scipy-1.16.1-cp312-cp312-manylinux2014_x86_64.manylinux_2_17_x86_64.whl (35.2 MB)\n",
      "\u001b[2K   \u001b[90m━━━━━━━━━━━━━━━━━━━━━━━━━━━━━━━━━━━━━━━━\u001b[0m \u001b[32m35.2/35.2 MB\u001b[0m \u001b[31m90.7 MB/s\u001b[0m eta \u001b[36m0:00:00\u001b[0ma \u001b[36m0:00:01\u001b[0m\n",
      "\u001b[?25hInstalling collected packages: scipy, patsy, narwhals, plotly, statsmodels, ridgeplot\n",
      "Successfully installed narwhals-2.0.1 patsy-1.0.1 plotly-6.2.0 ridgeplot-0.3.2 scipy-1.16.1 statsmodels-0.14.5\n",
      "Note: you may need to restart the kernel to use updated packages.\n"
     ]
    }
   ],
   "source": [
    "pip install ridgeplot"
   ]
  },
  {
   "cell_type": "code",
   "execution_count": null,
   "id": "fa4120fb-fdff-498a-a35f-4a3e031018d4",
   "metadata": {},
   "outputs": [],
   "source": []
  }
 ],
 "metadata": {
  "kernelspec": {
   "display_name": "Python [conda env:glm2]",
   "language": "python",
   "name": "conda-env-glm2-py"
  },
  "language_info": {
   "codemirror_mode": {
    "name": "ipython",
    "version": 3
   },
   "file_extension": ".py",
   "mimetype": "text/x-python",
   "name": "python",
   "nbconvert_exporter": "python",
   "pygments_lexer": "ipython3",
   "version": "3.12.5"
  }
 },
 "nbformat": 4,
 "nbformat_minor": 5
}
