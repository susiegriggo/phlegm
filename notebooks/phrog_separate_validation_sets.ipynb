{
 "cells": [
  {
   "cell_type": "code",
   "execution_count": 33,
   "id": "cb2af2b0-d96f-43f8-844d-b2624a2c8ac7",
   "metadata": {},
   "outputs": [],
   "source": [
    "# analyse PHROG representative sequences and determine testing and validation sets"
   ]
  },
  {
   "cell_type": "code",
   "execution_count": 1,
   "id": "1870151f-4dd9-4ce3-9d34-98d016e2a2db",
   "metadata": {},
   "outputs": [],
   "source": [
    "# imports \n",
    "import pandas as pd\n",
    "from Bio import SeqIO\n",
    "import re\n",
    "from collections import Counter\n",
    "import requests\n",
    "import seaborn as sns\n",
    "\n",
    "import pickle\n",
    "from itertools import chain\n",
    "import matplotlib.pyplot as plt"
   ]
  },
  {
   "cell_type": "code",
   "execution_count": 2,
   "id": "46b7e4ca-b89c-46ce-ae8d-fc6921d05314",
   "metadata": {},
   "outputs": [],
   "source": [
    "# read in all the information needing \n",
    "oligomer_predictions = pickle.load(open('../files/pdb_oligomeric_states_mmseqs2_2025-04-08.pkl', 'rb')) \n",
    "\n",
    "# add deposition date to the dataframe \n",
    "date_dict = dict(zip(oligomer_predictions.keys(), [oligomer_predictions.get(i).get('Deposition_Date') for i in list(oligomer_predictions.keys())]))\n",
    "states = [str(set([j[0] for j in list(i.get('Assemblies').values())]))[2:-2] for i in oligomer_predictions.values()]\n",
    "state_dict = dict(zip(oligomer_predictions.keys(), states)) "
   ]
  },
  {
   "cell_type": "code",
   "execution_count": 3,
   "id": "10b2536e-703f-4806-b0f1-2c61d237444d",
   "metadata": {},
   "outputs": [
    {
     "data": {
      "text/plain": [
       "Counter({'X-RAY DIFFRACTION': 18146,\n",
       "         'ELECTRON MICROSCOPY': 3596,\n",
       "         'SOLUTION NMR': 390,\n",
       "         'ELECTRON CRYSTALLOGRAPHY': 66,\n",
       "         'SOLID-STATE NMR': 7,\n",
       "         'Error 404': 3,\n",
       "         'NEUTRON DIFFRACTION': 11,\n",
       "         'FIBER DIFFRACTION': 15})"
      ]
     },
     "execution_count": 3,
     "metadata": {},
     "output_type": "execute_result"
    }
   ],
   "source": [
    "# read in the experimental methods to see if NMR structures can be filtered out \n",
    "experimental_method = pd.read_csv('/home/grig0076/GitHubs/phlegm/pdb_experimental_methods.csv')\n",
    "experimental_method_dict = dict(zip([e.lower() for e in experimental_method['PDB_ID'].to_list()], experimental_method['Experimental_Method'].to_list()))\n",
    "Counter(experimental_method['Experimental_Method'])"
   ]
  },
  {
   "cell_type": "code",
   "execution_count": 4,
   "id": "7042e0ef-9f1b-4d85-b81e-ddfe8934e8de",
   "metadata": {},
   "outputs": [],
   "source": [
    "# Get the mmseqs results \n",
    "df = pd.read_csv(\"../files/phrog_represenative_pdb_seqres_minseqid0.3_c0.7.m8\", sep=\"\\t\", header=None)\n",
    "df.columns = [\n",
    "    \"query\", \"target\", \"pident\", \"alnlen\", \"mismatch\", \"gapopen\",\n",
    "    \"qstart\", \"qend\", \"tstart\", \"tend\", \"evalue\", \"bitscore\"\n",
    "]\n",
    "\n",
    "# Load query and target lengths from FASTA files\n",
    "def load_lengths(fasta_file):\n",
    "    return {record.id: len(record.seq) for record in SeqIO.parse(fasta_file, \"fasta\")}\n",
    "\n",
    "query_lengths = load_lengths(\"../files/nonsingleton_representative_sequences.fasta\") # PHROG representative sequences\n",
    "target_lengths = load_lengths(\"../files/pdb_seqres.cleaned.txt\") # Sequences in the protein databank \n",
    "\n",
    "# Map lengths to dataframe\n",
    "df[\"qlen\"] = df[\"query\"].map(query_lengths)\n",
    "df[\"tlen\"] = df[\"target\"].map(target_lengths)\n",
    "\n",
    "# Compute coverage\n",
    "df[\"query_coverage\"] = (df[\"qend\"] - df[\"qstart\"] + 1) / df[\"qlen\"]\n",
    "df[\"target_coverage\"] = (df[\"tend\"] - df[\"tstart\"] + 1) / df[\"tlen\"]\n",
    "df['pdb'] = [re.split('_',i)[0] for i in df['target']]\n",
    "\n",
    "df['Deposition_Date'] = [date_dict.get(i) for i in df['pdb']]\n",
    "df['oligomeric_state'] = [state_dict.get(i) for i in df['pdb']]\n",
    "\n",
    "# filter out heteromeric hits \n",
    "df = df[~df['oligomeric_state'].str.contains('Hetero')]"
   ]
  },
  {
   "cell_type": "markdown",
   "id": "268702dc-7ab7-4c0b-b2d0-07983f4448cd",
   "metadata": {},
   "source": [
    "## apply filtering of which pass the plddt checking and length filter "
   ]
  },
  {
   "cell_type": "code",
   "execution_count": 50,
   "id": "c8404fea-a805-424e-b6f2-914a45f78500",
   "metadata": {},
   "outputs": [],
   "source": [
    "# determine which phrogs have hits to the pdb\n",
    "# apply filtering of which pass the plddt checking and length filter \n",
    "#phrogs_hitpdb = list(set(df['query']))\n",
    "phrogs_hitpdb = list(set(df[df['query_coverage']> 0.7]['query'])) # impose a query coverage of 0.7 as well \n",
    "\n",
    "# Get the phrogs that pass the length and plddt filters \n",
    "with open('../files/phrogs_pass_plddt_length_threshold.txt', 'r') as file:\n",
    "    phrogs_pass_lengthplddt =  [line.strip() for line in file]\n",
    "    \n",
    "# get the intersection of these two sets of phrogs \n",
    "phrogs_pass_lengthplddt_hitpdb = list(set(phrogs_hitpdb).intersection(set(phrogs_pass_lengthplddt))) "
   ]
  },
  {
   "cell_type": "code",
   "execution_count": 51,
   "id": "564bdd7f-1513-4a09-8864-67e851e3ab9d",
   "metadata": {},
   "outputs": [
    {
     "data": {
      "text/plain": [
       "22554"
      ]
     },
     "execution_count": 51,
     "metadata": {},
     "output_type": "execute_result"
    }
   ],
   "source": [
    "# show the length of these so that thehy can be easily added to the paper \n",
    "len(phrogs_pass_lengthplddt)"
   ]
  },
  {
   "cell_type": "code",
   "execution_count": 52,
   "id": "afe7d65b-2398-4136-bc16-4c4fa9688e11",
   "metadata": {},
   "outputs": [
    {
     "data": {
      "text/plain": [
       "597"
      ]
     },
     "execution_count": 52,
     "metadata": {},
     "output_type": "execute_result"
    }
   ],
   "source": [
    "len(phrogs_pass_lengthplddt_hitpdb)"
   ]
  },
  {
   "cell_type": "code",
   "execution_count": 53,
   "id": "509b212e-4d70-4d07-a4ee-a359e15f97ca",
   "metadata": {},
   "outputs": [],
   "source": [
    "# determine the deposition date\n",
    "cutoff_date = pd.Timestamp(\"2021-09-30\", tz=\"UTC\")\n",
    "\n",
    "before_cutoff = dict()\n",
    "after_cutoff = dict()\n",
    "\n",
    "for p in phrogs_pass_lengthplddt_hitpdb:\n",
    "    # Extract and parse dates\n",
    "    dates_raw = df[df['query'] == p]['Deposition_Date']\n",
    "    dates = pd.to_datetime(dates_raw, errors='coerce')\n",
    "\n",
    "    # Get oldest valid date\n",
    "    oldest_date = dates.min()\n",
    "\n",
    "    if pd.isna(oldest_date):\n",
    "        continue  # skip if no valid dates\n",
    "\n",
    "    # Assign to appropriate dictionary\n",
    "    if oldest_date < cutoff_date:\n",
    "        before_cutoff[p] = oldest_date\n",
    "    else:\n",
    "        after_cutoff[p] = oldest_date\n",
    "\n",
    "\n",
    "# save the set of validation and threshold phrogs to files "
   ]
  },
  {
   "cell_type": "code",
   "execution_count": 54,
   "id": "ff09ad33-871c-493e-89a2-bdd666750526",
   "metadata": {},
   "outputs": [],
   "source": [
    "before_cutoff_phrogs_list = list(before_cutoff.keys())\n",
    "df_before_cutoff = df[df['query'].isin(before_cutoff_phrogs_list)]\n",
    "before_cutoff_phrogs_list = list(set(df_before_cutoff[df_before_cutoff['query_coverage'] > 0.7]['query'])) # make sure that there is a query coverage of 0.7\n",
    "                                 \n",
    "with open('../files/phrogs_pass_plddt_length_threshold_alphafold_trained.txt', 'w') as file:\n",
    "    for item in before_cutoff_phrogs_list:\n",
    "        file.write(f\"{item}\\n\")\n",
    "        \n",
    "after_cutoff_phrogs_list = list(after_cutoff.keys())\n",
    "df_after_cutoff = df[df['query'].isin(after_cutoff_phrogs_list)]\n",
    "\n",
    "after_cutoff_phrogs_list = list(set(df_after_cutoff[df_after_cutoff['query_coverage'] > 0.7]['query']))                    \n",
    "with open('../files/phrogs_pass_plddt_length_threshold_validation_alphafold_unseen.txt', 'w') as file:\n",
    "    for item in after_cutoff_phrogs_list:\n",
    "        file.write(f\"{item}\\n\")"
   ]
  },
  {
   "cell_type": "code",
   "execution_count": 55,
   "id": "88651da8-482e-4f7f-91e5-335fc252a4ed",
   "metadata": {},
   "outputs": [
    {
     "data": {
      "text/plain": [
       "558"
      ]
     },
     "execution_count": 55,
     "metadata": {},
     "output_type": "execute_result"
    }
   ],
   "source": [
    "# Number of phrog representatives to use for determining thresholds \n",
    "len(before_cutoff_phrogs_list)"
   ]
  },
  {
   "cell_type": "code",
   "execution_count": 56,
   "id": "bdf45ddb-c016-4d4b-b424-79775625bb82",
   "metadata": {},
   "outputs": [
    {
     "data": {
      "text/plain": [
       "39"
      ]
     },
     "execution_count": 56,
     "metadata": {},
     "output_type": "execute_result"
    }
   ],
   "source": [
    "# Number of phrog representatives to use for testing\n",
    "len(after_cutoff_phrogs_list)"
   ]
  },
  {
   "cell_type": "code",
   "execution_count": 57,
   "id": "7de4d231-3b7f-4102-a87d-61a27386bab6",
   "metadata": {},
   "outputs": [],
   "source": [
    "# determine the oligomeric states recorded for entries \n",
    "phrogs_known_state = before_cutoff_phrogs_list + after_cutoff_phrogs_list\n",
    "\n",
    "phrog_oligomeric_state= dict()\n",
    "monomer_only = list() # sequences that are only deposited as monomers\n",
    "for p in phrogs_known_state: \n",
    "    \n",
    "    #oligomeric_state_raw = df[df['query'] == p]['oligomeric_state'].to_list()\n",
    "    oligomeric_state_raw = df[df['query'] == p][['pdb', 'oligomeric_state']].drop_duplicates()['oligomeric_state'].to_list()\n",
    "    \n",
    "    phrog_oligomeric_state[p] = dict(Counter(oligomeric_state_raw))\n",
    "    \n",
    "    if list(dict(Counter(oligomeric_state_raw)).keys()) == ['Monomer']: \n",
    "        monomer_only.append(p)\n",
    "\n",
    "# save this dictionary to a file \n",
    "pickle.dump(phrog_oligomeric_state, open('../files/phrogs_pass_plddt_length_threshold_oligomeric_state.pkl', 'wb'))"
   ]
  }
 ],
 "metadata": {
  "kernelspec": {
   "display_name": "Python 3",
   "language": "python",
   "name": "python3"
  },
  "language_info": {
   "codemirror_mode": {
    "name": "ipython",
    "version": 3
   },
   "file_extension": ".py",
   "mimetype": "text/x-python",
   "name": "python",
   "nbconvert_exporter": "python",
   "pygments_lexer": "ipython3",
   "version": "3.9.16"
  }
 },
 "nbformat": 4,
 "nbformat_minor": 5
}
