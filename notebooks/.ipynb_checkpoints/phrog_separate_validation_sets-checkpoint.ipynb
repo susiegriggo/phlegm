{
 "cells": [
  {
   "cell_type": "code",
   "execution_count": 33,
   "id": "cb2af2b0-d96f-43f8-844d-b2624a2c8ac7",
   "metadata": {},
   "outputs": [],
   "source": [
    "# analyse PHROG representative sequences and determine testing and validation sets"
   ]
  },
  {
   "cell_type": "code",
   "execution_count": 1,
   "id": "1870151f-4dd9-4ce3-9d34-98d016e2a2db",
   "metadata": {},
   "outputs": [],
   "source": [
    "# imports \n",
    "import pandas as pd\n",
    "from Bio import SeqIO\n",
    "import re\n",
    "from collections import Counter\n",
    "import requests\n",
    "import seaborn as sns\n",
    "\n",
    "import pickle\n",
    "from itertools import chain\n",
    "import matplotlib.pyplot as plt"
   ]
  },
  {
   "cell_type": "code",
   "execution_count": 2,
   "id": "46b7e4ca-b89c-46ce-ae8d-fc6921d05314",
   "metadata": {},
   "outputs": [],
   "source": [
    "# read in all the information needing \n",
    "oligomer_predictions = pickle.load(open('../files/pdb_oligomeric_states_mmseqs2_2025-04-08.pkl', 'rb')) \n",
    "\n",
    "# add deposition date to the dataframe \n",
    "date_dict = dict(zip(oligomer_predictions.keys(), [oligomer_predictions.get(i).get('Deposition_Date') for i in list(oligomer_predictions.keys())]))\n",
    "states = [str(set([j[0] for j in list(i.get('Assemblies').values())]))[2:-2] for i in oligomer_predictions.values()]\n",
    "state_dict = dict(zip(oligomer_predictions.keys(), states)) "
   ]
  },
  {
   "cell_type": "code",
   "execution_count": 34,
   "id": "10b2536e-703f-4806-b0f1-2c61d237444d",
   "metadata": {},
   "outputs": [
    {
     "data": {
      "text/plain": [
       "Counter({'X-RAY DIFFRACTION': 18146,\n",
       "         'ELECTRON MICROSCOPY': 3596,\n",
       "         'SOLUTION NMR': 390,\n",
       "         'ELECTRON CRYSTALLOGRAPHY': 66,\n",
       "         'SOLID-STATE NMR': 7,\n",
       "         'Error 404': 3,\n",
       "         'NEUTRON DIFFRACTION': 11,\n",
       "         'FIBER DIFFRACTION': 15})"
      ]
     },
     "execution_count": 34,
     "metadata": {},
     "output_type": "execute_result"
    }
   ],
   "source": [
    "# read in the experimental methods to see if NMR structures can be filtered out \n",
    "experimental_method = pd.read_csv('/home/grig0076/GitHubs/phlegm/pdb_experimental_methods.csv')\n",
    "experimental_method_dict = dict(zip([e.lower() for e in experimental_method['PDB_ID'].to_list()], experimental_method['Experimental_Method'].to_list()))\n",
    "Counter(experimental_method['Experimental_Method'])"
   ]
  },
  {
   "cell_type": "code",
   "execution_count": 49,
   "id": "7042e0ef-9f1b-4d85-b81e-ddfe8934e8de",
   "metadata": {},
   "outputs": [],
   "source": [
    "# Get the mmseqs results \n",
    "df = pd.read_csv(\"../files/phrog_represenative_pdb_seqres_minseqid0.3_c0.7.m8\", sep=\"\\t\", header=None)\n",
    "df.columns = [\n",
    "    \"query\", \"target\", \"pident\", \"alnlen\", \"mismatch\", \"gapopen\",\n",
    "    \"qstart\", \"qend\", \"tstart\", \"tend\", \"evalue\", \"bitscore\"\n",
    "]\n",
    "\n",
    "# Load query and target lengths from FASTA files\n",
    "def load_lengths(fasta_file):\n",
    "    return {record.id: len(record.seq) for record in SeqIO.parse(fasta_file, \"fasta\")}\n",
    "\n",
    "query_lengths = load_lengths(\"../files/nonsingleton_representative_sequences.fasta\") # PHROG representative sequences\n",
    "target_lengths = load_lengths(\"../files/pdb_seqres.cleaned.txt\") # Sequences in the protein databank \n",
    "\n",
    "# Map lengths to dataframe\n",
    "df[\"qlen\"] = df[\"query\"].map(query_lengths)\n",
    "df[\"tlen\"] = df[\"target\"].map(target_lengths)\n",
    "\n",
    "# Compute coverage\n",
    "df[\"query_coverage\"] = (df[\"qend\"] - df[\"qstart\"] + 1) / df[\"qlen\"]\n",
    "df[\"target_coverage\"] = (df[\"tend\"] - df[\"tstart\"] + 1) / df[\"tlen\"]\n",
    "df['pdb'] = [re.split('_',i)[0] for i in df['target']]\n",
    "\n",
    "df['Deposition_Date'] = [date_dict.get(i) for i in df['pdb']]\n",
    "df['oligomeric_state'] = [state_dict.get(i) for i in df['pdb']]\n",
    "\n",
    "# filter out heteromeric hits \n",
    "df = df[~df['oligomeric_state'].str.contains('Hetero')]"
   ]
  },
  {
   "cell_type": "code",
   "execution_count": 79,
   "id": "8681555a-d4e9-4b6a-8a2e-575b4c7aa8a8",
   "metadata": {},
   "outputs": [
    {
     "data": {
      "text/html": [
       "<div>\n",
       "<style scoped>\n",
       "    .dataframe tbody tr th:only-of-type {\n",
       "        vertical-align: middle;\n",
       "    }\n",
       "\n",
       "    .dataframe tbody tr th {\n",
       "        vertical-align: top;\n",
       "    }\n",
       "\n",
       "    .dataframe thead th {\n",
       "        text-align: right;\n",
       "    }\n",
       "</style>\n",
       "<table border=\"1\" class=\"dataframe\">\n",
       "  <thead>\n",
       "    <tr style=\"text-align: right;\">\n",
       "      <th></th>\n",
       "      <th>query</th>\n",
       "      <th>target</th>\n",
       "      <th>pident</th>\n",
       "      <th>alnlen</th>\n",
       "      <th>mismatch</th>\n",
       "      <th>gapopen</th>\n",
       "      <th>qstart</th>\n",
       "      <th>qend</th>\n",
       "      <th>tstart</th>\n",
       "      <th>tend</th>\n",
       "      <th>evalue</th>\n",
       "      <th>bitscore</th>\n",
       "      <th>qlen</th>\n",
       "      <th>tlen</th>\n",
       "      <th>query_coverage</th>\n",
       "      <th>target_coverage</th>\n",
       "      <th>pdb</th>\n",
       "      <th>Deposition_Date</th>\n",
       "      <th>oligomeric_state</th>\n",
       "    </tr>\n",
       "  </thead>\n",
       "  <tbody>\n",
       "    <tr>\n",
       "      <th>14747</th>\n",
       "      <td>phrog_30232</td>\n",
       "      <td>7xmw_A</td>\n",
       "      <td>1.0</td>\n",
       "      <td>66</td>\n",
       "      <td>0</td>\n",
       "      <td>0</td>\n",
       "      <td>1</td>\n",
       "      <td>66</td>\n",
       "      <td>7</td>\n",
       "      <td>72</td>\n",
       "      <td>2.113000e-41</td>\n",
       "      <td>148</td>\n",
       "      <td>77</td>\n",
       "      <td>72</td>\n",
       "      <td>0.857143</td>\n",
       "      <td>0.916667</td>\n",
       "      <td>7xmw</td>\n",
       "      <td>2022-04-27T00:00:00+0000</td>\n",
       "      <td>Homo 2-mer</td>\n",
       "    </tr>\n",
       "    <tr>\n",
       "      <th>14748</th>\n",
       "      <td>phrog_30232</td>\n",
       "      <td>7xmw_B</td>\n",
       "      <td>1.0</td>\n",
       "      <td>66</td>\n",
       "      <td>0</td>\n",
       "      <td>0</td>\n",
       "      <td>1</td>\n",
       "      <td>66</td>\n",
       "      <td>7</td>\n",
       "      <td>72</td>\n",
       "      <td>2.113000e-41</td>\n",
       "      <td>148</td>\n",
       "      <td>77</td>\n",
       "      <td>72</td>\n",
       "      <td>0.857143</td>\n",
       "      <td>0.916667</td>\n",
       "      <td>7xmw</td>\n",
       "      <td>2022-04-27T00:00:00+0000</td>\n",
       "      <td>Homo 2-mer</td>\n",
       "    </tr>\n",
       "  </tbody>\n",
       "</table>\n",
       "</div>"
      ],
      "text/plain": [
       "             query  target  pident  alnlen  mismatch  gapopen  qstart  qend  \\\n",
       "14747  phrog_30232  7xmw_A     1.0      66         0        0       1    66   \n",
       "14748  phrog_30232  7xmw_B     1.0      66         0        0       1    66   \n",
       "\n",
       "       tstart  tend        evalue  bitscore  qlen  tlen  query_coverage  \\\n",
       "14747       7    72  2.113000e-41       148    77    72        0.857143   \n",
       "14748       7    72  2.113000e-41       148    77    72        0.857143   \n",
       "\n",
       "       target_coverage   pdb           Deposition_Date oligomeric_state  \n",
       "14747         0.916667  7xmw  2022-04-27T00:00:00+0000       Homo 2-mer  \n",
       "14748         0.916667  7xmw  2022-04-27T00:00:00+0000       Homo 2-mer  "
      ]
     },
     "execution_count": 79,
     "metadata": {},
     "output_type": "execute_result"
    }
   ],
   "source": [
    "df[df['query'] == 'phrog_30232']"
   ]
  },
  {
   "cell_type": "markdown",
   "id": "268702dc-7ab7-4c0b-b2d0-07983f4448cd",
   "metadata": {},
   "source": [
    "## apply filtering of which pass the plddt checking and length filter "
   ]
  },
  {
   "cell_type": "code",
   "execution_count": 50,
   "id": "c8404fea-a805-424e-b6f2-914a45f78500",
   "metadata": {},
   "outputs": [],
   "source": [
    "# determine which phrogs have hits to the pdb\n",
    "# apply filtering of which pass the plddt checking and length filter \n",
    "#phrogs_hitpdb = list(set(df['query']))\n",
    "phrogs_hitpdb = list(set(df[df['query_coverage']> 0.7]['query'])) # impose a query coverage of 0.7 as well \n",
    "\n",
    "# Get the phrogs that pass the length and plddt filters \n",
    "with open('../files/phrogs_pass_plddt_length_threshold.txt', 'r') as file:\n",
    "    phrogs_pass_lengthplddt =  [line.strip() for line in file]\n",
    "    \n",
    "# get the intersection of these two sets of phrogs \n",
    "phrogs_pass_lengthplddt_hitpdb = list(set(phrogs_hitpdb).intersection(set(phrogs_pass_lengthplddt))) "
   ]
  },
  {
   "cell_type": "code",
   "execution_count": 51,
   "id": "564bdd7f-1513-4a09-8864-67e851e3ab9d",
   "metadata": {},
   "outputs": [
    {
     "data": {
      "text/plain": [
       "22554"
      ]
     },
     "execution_count": 51,
     "metadata": {},
     "output_type": "execute_result"
    }
   ],
   "source": [
    "# show the length of these so that thehy can be easily added to the paper \n",
    "len(phrogs_pass_lengthplddt)"
   ]
  },
  {
   "cell_type": "code",
   "execution_count": 52,
   "id": "afe7d65b-2398-4136-bc16-4c4fa9688e11",
   "metadata": {},
   "outputs": [
    {
     "data": {
      "text/plain": [
       "597"
      ]
     },
     "execution_count": 52,
     "metadata": {},
     "output_type": "execute_result"
    }
   ],
   "source": [
    "len(phrogs_pass_lengthplddt_hitpdb)"
   ]
  },
  {
   "cell_type": "code",
   "execution_count": 53,
   "id": "509b212e-4d70-4d07-a4ee-a359e15f97ca",
   "metadata": {},
   "outputs": [],
   "source": [
    "# determine the deposition date\n",
    "cutoff_date = pd.Timestamp(\"2021-09-30\", tz=\"UTC\")\n",
    "\n",
    "before_cutoff = dict()\n",
    "after_cutoff = dict()\n",
    "\n",
    "for p in phrogs_pass_lengthplddt_hitpdb:\n",
    "    # Extract and parse dates\n",
    "    dates_raw = df[df['query'] == p]['Deposition_Date']\n",
    "    dates = pd.to_datetime(dates_raw, errors='coerce')\n",
    "\n",
    "    # Get oldest valid date\n",
    "    oldest_date = dates.min()\n",
    "\n",
    "    if pd.isna(oldest_date):\n",
    "        continue  # skip if no valid dates\n",
    "\n",
    "    # Assign to appropriate dictionary\n",
    "    if oldest_date < cutoff_date:\n",
    "        before_cutoff[p] = oldest_date\n",
    "    else:\n",
    "        after_cutoff[p] = oldest_date\n",
    "\n",
    "\n",
    "# save the set of validation and threshold phrogs to files "
   ]
  },
  {
   "cell_type": "code",
   "execution_count": 54,
   "id": "ff09ad33-871c-493e-89a2-bdd666750526",
   "metadata": {},
   "outputs": [],
   "source": [
    "before_cutoff_phrogs_list = list(before_cutoff.keys())\n",
    "df_before_cutoff = df[df['query'].isin(before_cutoff_phrogs_list)]\n",
    "before_cutoff_phrogs_list = list(set(df_before_cutoff[df_before_cutoff['query_coverage'] > 0.7]['query'])) # make sure that there is a query coverage of 0.7\n",
    "                                 \n",
    "with open('../files/phrogs_pass_plddt_length_threshold_alphafold_trained.txt', 'w') as file:\n",
    "    for item in before_cutoff_phrogs_list:\n",
    "        file.write(f\"{item}\\n\")\n",
    "        \n",
    "after_cutoff_phrogs_list = list(after_cutoff.keys())\n",
    "df_after_cutoff = df[df['query'].isin(after_cutoff_phrogs_list)]\n",
    "\n",
    "after_cutoff_phrogs_list = list(set(df_after_cutoff[df_after_cutoff['query_coverage'] > 0.7]['query']))                    \n",
    "with open('../files/phrogs_pass_plddt_length_threshold_validation_alphafold_unseen.txt', 'w') as file:\n",
    "    for item in after_cutoff_phrogs_list:\n",
    "        file.write(f\"{item}\\n\")"
   ]
  },
  {
   "cell_type": "code",
   "execution_count": 55,
   "id": "88651da8-482e-4f7f-91e5-335fc252a4ed",
   "metadata": {},
   "outputs": [
    {
     "data": {
      "text/plain": [
       "558"
      ]
     },
     "execution_count": 55,
     "metadata": {},
     "output_type": "execute_result"
    }
   ],
   "source": [
    "# Number of phrog representatives to use for determining thresholds \n",
    "len(before_cutoff_phrogs_list)"
   ]
  },
  {
   "cell_type": "code",
   "execution_count": 56,
   "id": "bdf45ddb-c016-4d4b-b424-79775625bb82",
   "metadata": {},
   "outputs": [
    {
     "data": {
      "text/plain": [
       "39"
      ]
     },
     "execution_count": 56,
     "metadata": {},
     "output_type": "execute_result"
    }
   ],
   "source": [
    "# Number of phrog representatives to use for testing\n",
    "len(after_cutoff_phrogs_list)"
   ]
  },
  {
   "cell_type": "code",
   "execution_count": 57,
   "id": "7de4d231-3b7f-4102-a87d-61a27386bab6",
   "metadata": {},
   "outputs": [],
   "source": [
    "# determine the oligomeric states recorded for entries \n",
    "phrogs_known_state = before_cutoff_phrogs_list + after_cutoff_phrogs_list\n",
    "\n",
    "phrog_oligomeric_state= dict()\n",
    "monomer_only = list() # sequences that are only deposited as monomers\n",
    "for p in phrogs_known_state: \n",
    "    \n",
    "    #oligomeric_state_raw = df[df['query'] == p]['oligomeric_state'].to_list()\n",
    "    oligomeric_state_raw = df[df['query'] == p][['pdb', 'oligomeric_state']].drop_duplicates()['oligomeric_state'].to_list()\n",
    "    \n",
    "    phrog_oligomeric_state[p] = dict(Counter(oligomeric_state_raw))\n",
    "    \n",
    "    if list(dict(Counter(oligomeric_state_raw)).keys()) == ['Monomer']: \n",
    "        monomer_only.append(p)\n",
    "\n",
    "# save this dictionary to a file \n",
    "pickle.dump(phrog_oligomeric_state, open('../files/phrogs_pass_plddt_length_threshold_oligomeric_state.pkl', 'wb'))"
   ]
  },
  {
   "cell_type": "markdown",
   "id": "90645770-272a-4e25-8ae1-25a8b37deef8",
   "metadata": {},
   "source": [
    "## build a sankey plot to visualise this \n"
   ]
  },
  {
   "cell_type": "code",
   "execution_count": 22,
   "id": "d3068844-12cb-493c-906d-49c7a20be2ad",
   "metadata": {},
   "outputs": [
    {
     "data": {
      "application/vnd.plotly.v1+json": {
       "config": {
        "plotlyServerURL": "https://plot.ly"
       },
       "data": [
        {
         "arrangement": "snap",
         "link": {
          "hovertemplate": "%{source.label} → %{target.label}<br>%{value} sequences<extra></extra>",
          "source": [
           1,
           1,
           3,
           3,
           4,
           4,
           5,
           5,
           7,
           7,
           7,
           7,
           7,
           7
          ],
          "target": [
           0,
           3,
           2,
           4,
           5,
           6,
           7,
           8,
           9,
           10,
           11,
           12,
           13,
           14
          ],
          "value": [
           3797,
           35083,
           12529,
           22554,
           558,
           21996,
           519,
           39,
           36,
           196,
           25,
           34,
           32,
           20
          ]
         },
         "node": {
          "hovertemplate": "%{label}<extra></extra>",
          "label": [
           ">350 aa excluded (3,797)",
           "PHROG representatives (38,880)",
           "Low-conf / filtered (12,529)",
           "<350 aa retained (35,083)",
           "High-conf AF2 monomers (pLDDT>70) (22,554)",
           "PDB overlap (558)",
           "No PDB match (21,996)",
           "Reference set (pre-2021-09-30) (519)",
           "Test set (post-2021-09-30) (39)",
           "Monomers (36)",
           "Dimers (196)",
           "Trimers (25)",
           "Tetramers (34)",
           "Pentamer–Hexamer (32)",
           "7+ subunits (20)"
          ],
          "line": {
           "color": "rgba(0, 0, 0, 0.3)",
           "width": 0.5
          },
          "pad": 25,
          "thickness": 22,
          "x": [
           0.9898148148148148,
           0.010185185185185186,
           0.9898148148148148,
           0.2061111111111111,
           0.402037037037037,
           0.5979629629629629,
           0.9898148148148148,
           0.7938888888888889,
           0.9898148148148148,
           0.9898148148148148,
           0.9898148148148148,
           0.9898148148148148,
           0.9898148148148148,
           0.9898148148148148,
           0.9898148148148148
          ],
          "y": [
           0.03413738575801905,
           0.35143938450096524,
           0.21470203861881665,
           0.42018292533441004,
           0.5602053783790154,
           0.8223972098823894,
           0.5591102830721622,
           0.8074960301610001,
           0.9657292476599417,
           0.7909754160844633,
           0.8268450238071096,
           0.8626157347050685,
           0.9312891485850502,
           0.8969119838531417,
           1.0000434780488674
          ]
         },
         "type": "sankey",
         "valueformat": ",.0f"
        }
       ],
       "layout": {
        "font": {
         "size": 14
        },
        "height": 800,
        "margin": {
         "b": 10,
         "l": 10,
         "r": 10,
         "t": 50
        },
        "template": {
         "data": {
          "bar": [
           {
            "error_x": {
             "color": "#2a3f5f"
            },
            "error_y": {
             "color": "#2a3f5f"
            },
            "marker": {
             "line": {
              "color": "#E5ECF6",
              "width": 0.5
             },
             "pattern": {
              "fillmode": "overlay",
              "size": 10,
              "solidity": 0.2
             }
            },
            "type": "bar"
           }
          ],
          "barpolar": [
           {
            "marker": {
             "line": {
              "color": "#E5ECF6",
              "width": 0.5
             },
             "pattern": {
              "fillmode": "overlay",
              "size": 10,
              "solidity": 0.2
             }
            },
            "type": "barpolar"
           }
          ],
          "carpet": [
           {
            "aaxis": {
             "endlinecolor": "#2a3f5f",
             "gridcolor": "white",
             "linecolor": "white",
             "minorgridcolor": "white",
             "startlinecolor": "#2a3f5f"
            },
            "baxis": {
             "endlinecolor": "#2a3f5f",
             "gridcolor": "white",
             "linecolor": "white",
             "minorgridcolor": "white",
             "startlinecolor": "#2a3f5f"
            },
            "type": "carpet"
           }
          ],
          "choropleth": [
           {
            "colorbar": {
             "outlinewidth": 0,
             "ticks": ""
            },
            "type": "choropleth"
           }
          ],
          "contour": [
           {
            "colorbar": {
             "outlinewidth": 0,
             "ticks": ""
            },
            "colorscale": [
             [
              0,
              "#0d0887"
             ],
             [
              0.1111111111111111,
              "#46039f"
             ],
             [
              0.2222222222222222,
              "#7201a8"
             ],
             [
              0.3333333333333333,
              "#9c179e"
             ],
             [
              0.4444444444444444,
              "#bd3786"
             ],
             [
              0.5555555555555556,
              "#d8576b"
             ],
             [
              0.6666666666666666,
              "#ed7953"
             ],
             [
              0.7777777777777778,
              "#fb9f3a"
             ],
             [
              0.8888888888888888,
              "#fdca26"
             ],
             [
              1,
              "#f0f921"
             ]
            ],
            "type": "contour"
           }
          ],
          "contourcarpet": [
           {
            "colorbar": {
             "outlinewidth": 0,
             "ticks": ""
            },
            "type": "contourcarpet"
           }
          ],
          "heatmap": [
           {
            "colorbar": {
             "outlinewidth": 0,
             "ticks": ""
            },
            "colorscale": [
             [
              0,
              "#0d0887"
             ],
             [
              0.1111111111111111,
              "#46039f"
             ],
             [
              0.2222222222222222,
              "#7201a8"
             ],
             [
              0.3333333333333333,
              "#9c179e"
             ],
             [
              0.4444444444444444,
              "#bd3786"
             ],
             [
              0.5555555555555556,
              "#d8576b"
             ],
             [
              0.6666666666666666,
              "#ed7953"
             ],
             [
              0.7777777777777778,
              "#fb9f3a"
             ],
             [
              0.8888888888888888,
              "#fdca26"
             ],
             [
              1,
              "#f0f921"
             ]
            ],
            "type": "heatmap"
           }
          ],
          "heatmapgl": [
           {
            "colorbar": {
             "outlinewidth": 0,
             "ticks": ""
            },
            "colorscale": [
             [
              0,
              "#0d0887"
             ],
             [
              0.1111111111111111,
              "#46039f"
             ],
             [
              0.2222222222222222,
              "#7201a8"
             ],
             [
              0.3333333333333333,
              "#9c179e"
             ],
             [
              0.4444444444444444,
              "#bd3786"
             ],
             [
              0.5555555555555556,
              "#d8576b"
             ],
             [
              0.6666666666666666,
              "#ed7953"
             ],
             [
              0.7777777777777778,
              "#fb9f3a"
             ],
             [
              0.8888888888888888,
              "#fdca26"
             ],
             [
              1,
              "#f0f921"
             ]
            ],
            "type": "heatmapgl"
           }
          ],
          "histogram": [
           {
            "marker": {
             "pattern": {
              "fillmode": "overlay",
              "size": 10,
              "solidity": 0.2
             }
            },
            "type": "histogram"
           }
          ],
          "histogram2d": [
           {
            "colorbar": {
             "outlinewidth": 0,
             "ticks": ""
            },
            "colorscale": [
             [
              0,
              "#0d0887"
             ],
             [
              0.1111111111111111,
              "#46039f"
             ],
             [
              0.2222222222222222,
              "#7201a8"
             ],
             [
              0.3333333333333333,
              "#9c179e"
             ],
             [
              0.4444444444444444,
              "#bd3786"
             ],
             [
              0.5555555555555556,
              "#d8576b"
             ],
             [
              0.6666666666666666,
              "#ed7953"
             ],
             [
              0.7777777777777778,
              "#fb9f3a"
             ],
             [
              0.8888888888888888,
              "#fdca26"
             ],
             [
              1,
              "#f0f921"
             ]
            ],
            "type": "histogram2d"
           }
          ],
          "histogram2dcontour": [
           {
            "colorbar": {
             "outlinewidth": 0,
             "ticks": ""
            },
            "colorscale": [
             [
              0,
              "#0d0887"
             ],
             [
              0.1111111111111111,
              "#46039f"
             ],
             [
              0.2222222222222222,
              "#7201a8"
             ],
             [
              0.3333333333333333,
              "#9c179e"
             ],
             [
              0.4444444444444444,
              "#bd3786"
             ],
             [
              0.5555555555555556,
              "#d8576b"
             ],
             [
              0.6666666666666666,
              "#ed7953"
             ],
             [
              0.7777777777777778,
              "#fb9f3a"
             ],
             [
              0.8888888888888888,
              "#fdca26"
             ],
             [
              1,
              "#f0f921"
             ]
            ],
            "type": "histogram2dcontour"
           }
          ],
          "mesh3d": [
           {
            "colorbar": {
             "outlinewidth": 0,
             "ticks": ""
            },
            "type": "mesh3d"
           }
          ],
          "parcoords": [
           {
            "line": {
             "colorbar": {
              "outlinewidth": 0,
              "ticks": ""
             }
            },
            "type": "parcoords"
           }
          ],
          "pie": [
           {
            "automargin": true,
            "type": "pie"
           }
          ],
          "scatter": [
           {
            "fillpattern": {
             "fillmode": "overlay",
             "size": 10,
             "solidity": 0.2
            },
            "type": "scatter"
           }
          ],
          "scatter3d": [
           {
            "line": {
             "colorbar": {
              "outlinewidth": 0,
              "ticks": ""
             }
            },
            "marker": {
             "colorbar": {
              "outlinewidth": 0,
              "ticks": ""
             }
            },
            "type": "scatter3d"
           }
          ],
          "scattercarpet": [
           {
            "marker": {
             "colorbar": {
              "outlinewidth": 0,
              "ticks": ""
             }
            },
            "type": "scattercarpet"
           }
          ],
          "scattergeo": [
           {
            "marker": {
             "colorbar": {
              "outlinewidth": 0,
              "ticks": ""
             }
            },
            "type": "scattergeo"
           }
          ],
          "scattergl": [
           {
            "marker": {
             "colorbar": {
              "outlinewidth": 0,
              "ticks": ""
             }
            },
            "type": "scattergl"
           }
          ],
          "scattermapbox": [
           {
            "marker": {
             "colorbar": {
              "outlinewidth": 0,
              "ticks": ""
             }
            },
            "type": "scattermapbox"
           }
          ],
          "scatterpolar": [
           {
            "marker": {
             "colorbar": {
              "outlinewidth": 0,
              "ticks": ""
             }
            },
            "type": "scatterpolar"
           }
          ],
          "scatterpolargl": [
           {
            "marker": {
             "colorbar": {
              "outlinewidth": 0,
              "ticks": ""
             }
            },
            "type": "scatterpolargl"
           }
          ],
          "scatterternary": [
           {
            "marker": {
             "colorbar": {
              "outlinewidth": 0,
              "ticks": ""
             }
            },
            "type": "scatterternary"
           }
          ],
          "surface": [
           {
            "colorbar": {
             "outlinewidth": 0,
             "ticks": ""
            },
            "colorscale": [
             [
              0,
              "#0d0887"
             ],
             [
              0.1111111111111111,
              "#46039f"
             ],
             [
              0.2222222222222222,
              "#7201a8"
             ],
             [
              0.3333333333333333,
              "#9c179e"
             ],
             [
              0.4444444444444444,
              "#bd3786"
             ],
             [
              0.5555555555555556,
              "#d8576b"
             ],
             [
              0.6666666666666666,
              "#ed7953"
             ],
             [
              0.7777777777777778,
              "#fb9f3a"
             ],
             [
              0.8888888888888888,
              "#fdca26"
             ],
             [
              1,
              "#f0f921"
             ]
            ],
            "type": "surface"
           }
          ],
          "table": [
           {
            "cells": {
             "fill": {
              "color": "#EBF0F8"
             },
             "line": {
              "color": "white"
             }
            },
            "header": {
             "fill": {
              "color": "#C8D4E3"
             },
             "line": {
              "color": "white"
             }
            },
            "type": "table"
           }
          ]
         },
         "layout": {
          "annotationdefaults": {
           "arrowcolor": "#2a3f5f",
           "arrowhead": 0,
           "arrowwidth": 1
          },
          "autotypenumbers": "strict",
          "coloraxis": {
           "colorbar": {
            "outlinewidth": 0,
            "ticks": ""
           }
          },
          "colorscale": {
           "diverging": [
            [
             0,
             "#8e0152"
            ],
            [
             0.1,
             "#c51b7d"
            ],
            [
             0.2,
             "#de77ae"
            ],
            [
             0.3,
             "#f1b6da"
            ],
            [
             0.4,
             "#fde0ef"
            ],
            [
             0.5,
             "#f7f7f7"
            ],
            [
             0.6,
             "#e6f5d0"
            ],
            [
             0.7,
             "#b8e186"
            ],
            [
             0.8,
             "#7fbc41"
            ],
            [
             0.9,
             "#4d9221"
            ],
            [
             1,
             "#276419"
            ]
           ],
           "sequential": [
            [
             0,
             "#0d0887"
            ],
            [
             0.1111111111111111,
             "#46039f"
            ],
            [
             0.2222222222222222,
             "#7201a8"
            ],
            [
             0.3333333333333333,
             "#9c179e"
            ],
            [
             0.4444444444444444,
             "#bd3786"
            ],
            [
             0.5555555555555556,
             "#d8576b"
            ],
            [
             0.6666666666666666,
             "#ed7953"
            ],
            [
             0.7777777777777778,
             "#fb9f3a"
            ],
            [
             0.8888888888888888,
             "#fdca26"
            ],
            [
             1,
             "#f0f921"
            ]
           ],
           "sequentialminus": [
            [
             0,
             "#0d0887"
            ],
            [
             0.1111111111111111,
             "#46039f"
            ],
            [
             0.2222222222222222,
             "#7201a8"
            ],
            [
             0.3333333333333333,
             "#9c179e"
            ],
            [
             0.4444444444444444,
             "#bd3786"
            ],
            [
             0.5555555555555556,
             "#d8576b"
            ],
            [
             0.6666666666666666,
             "#ed7953"
            ],
            [
             0.7777777777777778,
             "#fb9f3a"
            ],
            [
             0.8888888888888888,
             "#fdca26"
            ],
            [
             1,
             "#f0f921"
            ]
           ]
          },
          "colorway": [
           "#636efa",
           "#EF553B",
           "#00cc96",
           "#ab63fa",
           "#FFA15A",
           "#19d3f3",
           "#FF6692",
           "#B6E880",
           "#FF97FF",
           "#FECB52"
          ],
          "font": {
           "color": "#2a3f5f"
          },
          "geo": {
           "bgcolor": "white",
           "lakecolor": "white",
           "landcolor": "#E5ECF6",
           "showlakes": true,
           "showland": true,
           "subunitcolor": "white"
          },
          "hoverlabel": {
           "align": "left"
          },
          "hovermode": "closest",
          "mapbox": {
           "style": "light"
          },
          "paper_bgcolor": "white",
          "plot_bgcolor": "#E5ECF6",
          "polar": {
           "angularaxis": {
            "gridcolor": "white",
            "linecolor": "white",
            "ticks": ""
           },
           "bgcolor": "#E5ECF6",
           "radialaxis": {
            "gridcolor": "white",
            "linecolor": "white",
            "ticks": ""
           }
          },
          "scene": {
           "xaxis": {
            "backgroundcolor": "#E5ECF6",
            "gridcolor": "white",
            "gridwidth": 2,
            "linecolor": "white",
            "showbackground": true,
            "ticks": "",
            "zerolinecolor": "white"
           },
           "yaxis": {
            "backgroundcolor": "#E5ECF6",
            "gridcolor": "white",
            "gridwidth": 2,
            "linecolor": "white",
            "showbackground": true,
            "ticks": "",
            "zerolinecolor": "white"
           },
           "zaxis": {
            "backgroundcolor": "#E5ECF6",
            "gridcolor": "white",
            "gridwidth": 2,
            "linecolor": "white",
            "showbackground": true,
            "ticks": "",
            "zerolinecolor": "white"
           }
          },
          "shapedefaults": {
           "line": {
            "color": "#2a3f5f"
           }
          },
          "ternary": {
           "aaxis": {
            "gridcolor": "white",
            "linecolor": "white",
            "ticks": ""
           },
           "baxis": {
            "gridcolor": "white",
            "linecolor": "white",
            "ticks": ""
           },
           "bgcolor": "#E5ECF6",
           "caxis": {
            "gridcolor": "white",
            "linecolor": "white",
            "ticks": ""
           }
          },
          "title": {
           "x": 0.05
          },
          "xaxis": {
           "automargin": true,
           "gridcolor": "white",
           "linecolor": "white",
           "ticks": "",
           "title": {
            "standoff": 15
           },
           "zerolinecolor": "white",
           "zerolinewidth": 2
          },
          "yaxis": {
           "automargin": true,
           "gridcolor": "white",
           "linecolor": "white",
           "ticks": "",
           "title": {
            "standoff": 15
           },
           "zerolinecolor": "white",
           "zerolinewidth": 2
          }
         }
        },
        "title": {
         "text": "PHROG curation & benchmarking flow (reference-set branching)"
        },
        "width": 1100
       }
      },
      "image/png": "[encoded data removed]",
      "text/html": [
       "<div>                            <div id=\"bed5d956-8f00-4e77-a0bc-e00ed6f38d82\" class=\"plotly-graph-div\" style=\"height:800px; width:1100px;\"></div>            <script type=\"text/javascript\">                require([\"plotly\"], function(Plotly) {                    window.PLOTLYENV=window.PLOTLYENV || {};                                    if (document.getElementById(\"bed5d956-8f00-4e77-a0bc-e00ed6f38d82\")) {                    Plotly.newPlot(                        \"bed5d956-8f00-4e77-a0bc-e00ed6f38d82\",                        [{\"arrangement\":\"snap\",\"link\":{\"hovertemplate\":\"%{source.label} \\u2192 %{target.label}\\u003cbr\\u003e%{value} sequences\\u003cextra\\u003e\\u003c\\u002fextra\\u003e\",\"source\":[1,1,3,3,4,4,5,5,7,7,7,7,7,7],\"target\":[0,3,2,4,5,6,7,8,9,10,11,12,13,14],\"value\":[3797,35083,12529,22554,558,21996,519,39,36,196,25,34,32,20]},\"node\":{\"hovertemplate\":\"%{label}\\u003cextra\\u003e\\u003c\\u002fextra\\u003e\",\"label\":[\"\\u003e350 aa excluded (3,797)\",\"PHROG representatives (38,880)\",\"Low-conf \\u002f filtered (12,529)\",\"\\u003c350 aa retained (35,083)\",\"High-conf AF2 monomers (pLDDT\\u003e70) (22,554)\",\"PDB overlap (558)\",\"No PDB match (21,996)\",\"Reference set (pre-2021-09-30) (519)\",\"Test set (post-2021-09-30) (39)\",\"Monomers (36)\",\"Dimers (196)\",\"Trimers (25)\",\"Tetramers (34)\",\"Pentamer\\u2013Hexamer (32)\",\"7+ subunits (20)\"],\"line\":{\"color\":\"rgba(0,0,0,0.3)\",\"width\":0.5},\"pad\":25,\"thickness\":22},\"valueformat\":\",.0f\",\"type\":\"sankey\"}],                        {\"template\":{\"data\":{\"histogram2dcontour\":[{\"type\":\"histogram2dcontour\",\"colorbar\":{\"outlinewidth\":0,\"ticks\":\"\"},\"colorscale\":[[0.0,\"#0d0887\"],[0.1111111111111111,\"#46039f\"],[0.2222222222222222,\"#7201a8\"],[0.3333333333333333,\"#9c179e\"],[0.4444444444444444,\"#bd3786\"],[0.5555555555555556,\"#d8576b\"],[0.6666666666666666,\"#ed7953\"],[0.7777777777777778,\"#fb9f3a\"],[0.8888888888888888,\"#fdca26\"],[1.0,\"#f0f921\"]]}],\"choropleth\":[{\"type\":\"choropleth\",\"colorbar\":{\"outlinewidth\":0,\"ticks\":\"\"}}],\"histogram2d\":[{\"type\":\"histogram2d\",\"colorbar\":{\"outlinewidth\":0,\"ticks\":\"\"},\"colorscale\":[[0.0,\"#0d0887\"],[0.1111111111111111,\"#46039f\"],[0.2222222222222222,\"#7201a8\"],[0.3333333333333333,\"#9c179e\"],[0.4444444444444444,\"#bd3786\"],[0.5555555555555556,\"#d8576b\"],[0.6666666666666666,\"#ed7953\"],[0.7777777777777778,\"#fb9f3a\"],[0.8888888888888888,\"#fdca26\"],[1.0,\"#f0f921\"]]}],\"heatmap\":[{\"type\":\"heatmap\",\"colorbar\":{\"outlinewidth\":0,\"ticks\":\"\"},\"colorscale\":[[0.0,\"#0d0887\"],[0.1111111111111111,\"#46039f\"],[0.2222222222222222,\"#7201a8\"],[0.3333333333333333,\"#9c179e\"],[0.4444444444444444,\"#bd3786\"],[0.5555555555555556,\"#d8576b\"],[0.6666666666666666,\"#ed7953\"],[0.7777777777777778,\"#fb9f3a\"],[0.8888888888888888,\"#fdca26\"],[1.0,\"#f0f921\"]]}],\"heatmapgl\":[{\"type\":\"heatmapgl\",\"colorbar\":{\"outlinewidth\":0,\"ticks\":\"\"},\"colorscale\":[[0.0,\"#0d0887\"],[0.1111111111111111,\"#46039f\"],[0.2222222222222222,\"#7201a8\"],[0.3333333333333333,\"#9c179e\"],[0.4444444444444444,\"#bd3786\"],[0.5555555555555556,\"#d8576b\"],[0.6666666666666666,\"#ed7953\"],[0.7777777777777778,\"#fb9f3a\"],[0.8888888888888888,\"#fdca26\"],[1.0,\"#f0f921\"]]}],\"contourcarpet\":[{\"type\":\"contourcarpet\",\"colorbar\":{\"outlinewidth\":0,\"ticks\":\"\"}}],\"contour\":[{\"type\":\"contour\",\"colorbar\":{\"outlinewidth\":0,\"ticks\":\"\"},\"colorscale\":[[0.0,\"#0d0887\"],[0.1111111111111111,\"#46039f\"],[0.2222222222222222,\"#7201a8\"],[0.3333333333333333,\"#9c179e\"],[0.4444444444444444,\"#bd3786\"],[0.5555555555555556,\"#d8576b\"],[0.6666666666666666,\"#ed7953\"],[0.7777777777777778,\"#fb9f3a\"],[0.8888888888888888,\"#fdca26\"],[1.0,\"#f0f921\"]]}],\"surface\":[{\"type\":\"surface\",\"colorbar\":{\"outlinewidth\":0,\"ticks\":\"\"},\"colorscale\":[[0.0,\"#0d0887\"],[0.1111111111111111,\"#46039f\"],[0.2222222222222222,\"#7201a8\"],[0.3333333333333333,\"#9c179e\"],[0.4444444444444444,\"#bd3786\"],[0.5555555555555556,\"#d8576b\"],[0.6666666666666666,\"#ed7953\"],[0.7777777777777778,\"#fb9f3a\"],[0.8888888888888888,\"#fdca26\"],[1.0,\"#f0f921\"]]}],\"mesh3d\":[{\"type\":\"mesh3d\",\"colorbar\":{\"outlinewidth\":0,\"ticks\":\"\"}}],\"scatter\":[{\"fillpattern\":{\"fillmode\":\"overlay\",\"size\":10,\"solidity\":0.2},\"type\":\"scatter\"}],\"parcoords\":[{\"type\":\"parcoords\",\"line\":{\"colorbar\":{\"outlinewidth\":0,\"ticks\":\"\"}}}],\"scatterpolargl\":[{\"type\":\"scatterpolargl\",\"marker\":{\"colorbar\":{\"outlinewidth\":0,\"ticks\":\"\"}}}],\"bar\":[{\"error_x\":{\"color\":\"#2a3f5f\"},\"error_y\":{\"color\":\"#2a3f5f\"},\"marker\":{\"line\":{\"color\":\"#E5ECF6\",\"width\":0.5},\"pattern\":{\"fillmode\":\"overlay\",\"size\":10,\"solidity\":0.2}},\"type\":\"bar\"}],\"scattergeo\":[{\"type\":\"scattergeo\",\"marker\":{\"colorbar\":{\"outlinewidth\":0,\"ticks\":\"\"}}}],\"scatterpolar\":[{\"type\":\"scatterpolar\",\"marker\":{\"colorbar\":{\"outlinewidth\":0,\"ticks\":\"\"}}}],\"histogram\":[{\"marker\":{\"pattern\":{\"fillmode\":\"overlay\",\"size\":10,\"solidity\":0.2}},\"type\":\"histogram\"}],\"scattergl\":[{\"type\":\"scattergl\",\"marker\":{\"colorbar\":{\"outlinewidth\":0,\"ticks\":\"\"}}}],\"scatter3d\":[{\"type\":\"scatter3d\",\"line\":{\"colorbar\":{\"outlinewidth\":0,\"ticks\":\"\"}},\"marker\":{\"colorbar\":{\"outlinewidth\":0,\"ticks\":\"\"}}}],\"scattermapbox\":[{\"type\":\"scattermapbox\",\"marker\":{\"colorbar\":{\"outlinewidth\":0,\"ticks\":\"\"}}}],\"scatterternary\":[{\"type\":\"scatterternary\",\"marker\":{\"colorbar\":{\"outlinewidth\":0,\"ticks\":\"\"}}}],\"scattercarpet\":[{\"type\":\"scattercarpet\",\"marker\":{\"colorbar\":{\"outlinewidth\":0,\"ticks\":\"\"}}}],\"carpet\":[{\"aaxis\":{\"endlinecolor\":\"#2a3f5f\",\"gridcolor\":\"white\",\"linecolor\":\"white\",\"minorgridcolor\":\"white\",\"startlinecolor\":\"#2a3f5f\"},\"baxis\":{\"endlinecolor\":\"#2a3f5f\",\"gridcolor\":\"white\",\"linecolor\":\"white\",\"minorgridcolor\":\"white\",\"startlinecolor\":\"#2a3f5f\"},\"type\":\"carpet\"}],\"table\":[{\"cells\":{\"fill\":{\"color\":\"#EBF0F8\"},\"line\":{\"color\":\"white\"}},\"header\":{\"fill\":{\"color\":\"#C8D4E3\"},\"line\":{\"color\":\"white\"}},\"type\":\"table\"}],\"barpolar\":[{\"marker\":{\"line\":{\"color\":\"#E5ECF6\",\"width\":0.5},\"pattern\":{\"fillmode\":\"overlay\",\"size\":10,\"solidity\":0.2}},\"type\":\"barpolar\"}],\"pie\":[{\"automargin\":true,\"type\":\"pie\"}]},\"layout\":{\"autotypenumbers\":\"strict\",\"colorway\":[\"#636efa\",\"#EF553B\",\"#00cc96\",\"#ab63fa\",\"#FFA15A\",\"#19d3f3\",\"#FF6692\",\"#B6E880\",\"#FF97FF\",\"#FECB52\"],\"font\":{\"color\":\"#2a3f5f\"},\"hovermode\":\"closest\",\"hoverlabel\":{\"align\":\"left\"},\"paper_bgcolor\":\"white\",\"plot_bgcolor\":\"#E5ECF6\",\"polar\":{\"bgcolor\":\"#E5ECF6\",\"angularaxis\":{\"gridcolor\":\"white\",\"linecolor\":\"white\",\"ticks\":\"\"},\"radialaxis\":{\"gridcolor\":\"white\",\"linecolor\":\"white\",\"ticks\":\"\"}},\"ternary\":{\"bgcolor\":\"#E5ECF6\",\"aaxis\":{\"gridcolor\":\"white\",\"linecolor\":\"white\",\"ticks\":\"\"},\"baxis\":{\"gridcolor\":\"white\",\"linecolor\":\"white\",\"ticks\":\"\"},\"caxis\":{\"gridcolor\":\"white\",\"linecolor\":\"white\",\"ticks\":\"\"}},\"coloraxis\":{\"colorbar\":{\"outlinewidth\":0,\"ticks\":\"\"}},\"colorscale\":{\"sequential\":[[0.0,\"#0d0887\"],[0.1111111111111111,\"#46039f\"],[0.2222222222222222,\"#7201a8\"],[0.3333333333333333,\"#9c179e\"],[0.4444444444444444,\"#bd3786\"],[0.5555555555555556,\"#d8576b\"],[0.6666666666666666,\"#ed7953\"],[0.7777777777777778,\"#fb9f3a\"],[0.8888888888888888,\"#fdca26\"],[1.0,\"#f0f921\"]],\"sequentialminus\":[[0.0,\"#0d0887\"],[0.1111111111111111,\"#46039f\"],[0.2222222222222222,\"#7201a8\"],[0.3333333333333333,\"#9c179e\"],[0.4444444444444444,\"#bd3786\"],[0.5555555555555556,\"#d8576b\"],[0.6666666666666666,\"#ed7953\"],[0.7777777777777778,\"#fb9f3a\"],[0.8888888888888888,\"#fdca26\"],[1.0,\"#f0f921\"]],\"diverging\":[[0,\"#8e0152\"],[0.1,\"#c51b7d\"],[0.2,\"#de77ae\"],[0.3,\"#f1b6da\"],[0.4,\"#fde0ef\"],[0.5,\"#f7f7f7\"],[0.6,\"#e6f5d0\"],[0.7,\"#b8e186\"],[0.8,\"#7fbc41\"],[0.9,\"#4d9221\"],[1,\"#276419\"]]},\"xaxis\":{\"gridcolor\":\"white\",\"linecolor\":\"white\",\"ticks\":\"\",\"title\":{\"standoff\":15},\"zerolinecolor\":\"white\",\"automargin\":true,\"zerolinewidth\":2},\"yaxis\":{\"gridcolor\":\"white\",\"linecolor\":\"white\",\"ticks\":\"\",\"title\":{\"standoff\":15},\"zerolinecolor\":\"white\",\"automargin\":true,\"zerolinewidth\":2},\"scene\":{\"xaxis\":{\"backgroundcolor\":\"#E5ECF6\",\"gridcolor\":\"white\",\"linecolor\":\"white\",\"showbackground\":true,\"ticks\":\"\",\"zerolinecolor\":\"white\",\"gridwidth\":2},\"yaxis\":{\"backgroundcolor\":\"#E5ECF6\",\"gridcolor\":\"white\",\"linecolor\":\"white\",\"showbackground\":true,\"ticks\":\"\",\"zerolinecolor\":\"white\",\"gridwidth\":2},\"zaxis\":{\"backgroundcolor\":\"#E5ECF6\",\"gridcolor\":\"white\",\"linecolor\":\"white\",\"showbackground\":true,\"ticks\":\"\",\"zerolinecolor\":\"white\",\"gridwidth\":2}},\"shapedefaults\":{\"line\":{\"color\":\"#2a3f5f\"}},\"annotationdefaults\":{\"arrowcolor\":\"#2a3f5f\",\"arrowhead\":0,\"arrowwidth\":1},\"geo\":{\"bgcolor\":\"white\",\"landcolor\":\"#E5ECF6\",\"subunitcolor\":\"white\",\"showland\":true,\"showlakes\":true,\"lakecolor\":\"white\"},\"title\":{\"x\":0.05},\"mapbox\":{\"style\":\"light\"}}},\"font\":{\"size\":14},\"margin\":{\"l\":10,\"r\":10,\"t\":50,\"b\":10},\"title\":{\"text\":\"PHROG curation & benchmarking flow (reference-set branching)\"},\"width\":1100,\"height\":800},                        {\"responsive\": true}                    ).then(function(){\n",
       "                            \n",
       "var gd = document.getElementById('bed5d956-8f00-4e77-a0bc-e00ed6f38d82');\n",
       "var x = new MutationObserver(function (mutations, observer) {{\n",
       "        var display = window.getComputedStyle(gd).display;\n",
       "        if (!display || display === 'none') {{\n",
       "            console.log([gd, 'removed!']);\n",
       "            Plotly.purge(gd);\n",
       "            observer.disconnect();\n",
       "        }}\n",
       "}});\n",
       "\n",
       "// Listen for the removal of the full notebook cells\n",
       "var notebookContainer = gd.closest('#notebook-container');\n",
       "if (notebookContainer) {{\n",
       "    x.observe(notebookContainer, {childList: true});\n",
       "}}\n",
       "\n",
       "// Listen for the clearing of the current output cell\n",
       "var outputEl = gd.closest('.output');\n",
       "if (outputEl) {{\n",
       "    x.observe(outputEl, {childList: true});\n",
       "}}\n",
       "\n",
       "                        })                };                });            </script>        </div>"
      ]
     },
     "metadata": {},
     "output_type": "display_data"
    }
   ],
   "source": [
    "import plotly.graph_objects as go\n",
    "from collections import defaultdict\n",
    "\n",
    "# Nodes (with updated PDB text and no 'Curated benchmark' / 'Excluded after curation')\n",
    "nodes = [\n",
    "    \">350 aa excluded\",\n",
    "    \"PHROG representatives\",\n",
    "    \"Low-conf / filtered\",\n",
    "    \"<350 aa\",\n",
    "    \"High-conf AF2 monomers (pLDDT>70)\",\n",
    "    \"PDB overlap\",\n",
    "    \"No PDB match\",\n",
    "    \"Reference set (pre-2021-09-30)\",\n",
    "    \"Test set (post-2021-09-30)\",\n",
    "    \"Monomers\", \"Dimers\", \"Trimers\", \"Tetramers\", \"Pentamer–Hexamer\", \"7+ subunits\"\n",
    "]\n",
    "\n",
    "idx = {name: i for i, name in enumerate(nodes)}\n",
    "\n",
    "# Links: oligomer states now branch from the Reference set node\n",
    "links = [\n",
    "    (idx[\"PHROG representatives\"], idx[\">350 aa excluded\"], 3797, \">350 aa excluded\"),\n",
    "    (idx[\"PHROG representatives\"], idx[\"<350 aa\"], 35083, \"<350 aa\"),\n",
    "\n",
    "    (idx[\"<350 aa\"], idx[\"Low-conf / filtered\"], 12529, \"pLDDT ≤ 70 / filtered\"),\n",
    "    (idx[\"<350 aa\"], idx[\"High-conf AF2 monomers (pLDDT>70)\"], 22554, \"pLDDT > 70\"),\n",
    "\n",
    "    (idx[\"High-conf AF2 monomers (pLDDT>70)\"], idx[\"PDB overlap\"], 558, \"PDB match\"),\n",
    "    (idx[\"High-conf AF2 monomers (pLDDT>70)\"], idx[\"No PDB match\"], 21996, \"No PDB match\"),\n",
    "\n",
    "    (idx[\"PDB overlap\"], idx[\"Reference set (pre-2021-09-30)\"], 519, \"Pre-cutoff\"),\n",
    "    (idx[\"PDB overlap\"], idx[\"Test set (post-2021-09-30)\"], 39, \"Post-cutoff\"),\n",
    "\n",
    "    # Branch oligomer categories from the Reference set\n",
    "    (idx[\"Reference set (pre-2021-09-30)\"], idx[\"Monomers\"], 36, \"\"),\n",
    "    (idx[\"Reference set (pre-2021-09-30)\"], idx[\"Dimers\"], 196, \"\"),\n",
    "    (idx[\"Reference set (pre-2021-09-30)\"], idx[\"Trimers\"], 25, \"\"),\n",
    "    (idx[\"Reference set (pre-2021-09-30)\"], idx[\"Tetramers\"], 34, \"\"),\n",
    "    (idx[\"Reference set (pre-2021-09-30)\"], idx[\"Pentamer–Hexamer\"], 32, \"\"),\n",
    "    (idx[\"Reference set (pre-2021-09-30)\"], idx[\"7+ subunits\"], 20, \"\"),\n",
    "]\n",
    "\n",
    "# Compute totals per node (prefer inflow; else outflow)\n",
    "inflow = defaultdict(int)\n",
    "outflow = defaultdict(int)\n",
    "for s, t, v, _ in links:\n",
    "    outflow[s] += v\n",
    "    inflow[t] += v\n",
    "\n",
    "totals = {i: (inflow[i] if inflow[i] > 0 else outflow[i]) for i in range(len(nodes))}\n",
    "\n",
    "# Labels with counts (special-case the overall total)\n",
    "labels_with_counts = []\n",
    "for i, name in enumerate(nodes):\n",
    "    if name == \"PHROG representatives\":\n",
    "        label = f\"{name} (38,880)\"\n",
    "    else:\n",
    "        label = f\"{name} ({totals[i]:,})\" if totals[i] > 0 else name\n",
    "    labels_with_counts.append(label)\n",
    "\n",
    "fig = go.Figure(data=[go.Sankey(\n",
    "    arrangement=\"snap\",\n",
    "    valueformat=\",.0f\",\n",
    "    node=dict(\n",
    "        label=labels_with_counts,\n",
    "        pad=25,\n",
    "        thickness=22,\n",
    "        line=dict(width=0.5, color=\"rgba(0,0,0,0.3)\"),\n",
    "        hovertemplate=\"%{label}<extra></extra>\"\n",
    "    ),\n",
    "    link=dict(\n",
    "        source=[s for s, t, v, h in links],\n",
    "        target=[t for s, t, v, h in links],\n",
    "        value=[v for s, t, v, h in links],\n",
    "        hovertemplate=\"%{source.label} → %{target.label}<br>%{value} sequences<extra></extra>\"\n",
    "    )\n",
    ")])\n",
    "\n",
    "fig.update_layout(\n",
    "    title=\"PHROG curation & benchmarking flow (reference-set branching)\",\n",
    "    font=dict(size=14),\n",
    "    width=1100,\n",
    "    height=800,\n",
    "    margin=dict(l=10, r=10, t=50, b=10)\n",
    ")\n",
    "\n",
    "fig.show()\n",
    "\n"
   ]
  },
  {
   "cell_type": "markdown",
   "id": "08a78db8-56ee-40e7-8d5e-b15acc1cee52",
   "metadata": {},
   "source": [
    "## Look up PDBs corresponding to validation hits for dimers and monomers"
   ]
  },
  {
   "cell_type": "code",
   "execution_count": 22,
   "id": "fe17e5ed-3fa4-410b-8140-f2e75f66c70a",
   "metadata": {},
   "outputs": [
    {
     "data": {
      "text/plain": [
       "{'2xvr', '3izg', '3j7v', '3j7w', '3j7x', '7y23', '8i4l'}"
      ]
     },
     "execution_count": 22,
     "metadata": {},
     "output_type": "execute_result"
    }
   ],
   "source": [
    "set([i[:4] for i in dd['target']])"
   ]
  },
  {
   "cell_type": "code",
   "execution_count": 81,
   "id": "6a37ff14-7fdf-47b5-bae1-d1e1a7d34d5b",
   "metadata": {},
   "outputs": [
    {
     "name": "stdout",
     "output_type": "stream",
     "text": [
      "phrog_45\n",
      "{'5w5f'}\n"
     ]
    }
   ],
   "source": [
    "val_dimers = ['phrog_45']\n",
    "\n",
    "for v in val_dimers: \n",
    "    dd = df[df['query'] == v]\n",
    "    print(v)\n",
    "    print(set([i[:4] for i in dd['target']]))"
   ]
  },
  {
   "cell_type": "code",
   "execution_count": null,
   "id": "fadb7ec8-d0b9-477b-b977-e4fe11c3ff10",
   "metadata": {},
   "outputs": [],
   "source": []
  }
 ],
 "metadata": {
  "kernelspec": {
   "display_name": "Python 3",
   "language": "python",
   "name": "python3"
  },
  "language_info": {
   "codemirror_mode": {
    "name": "ipython",
    "version": 3
   },
   "file_extension": ".py",
   "mimetype": "text/x-python",
   "name": "python",
   "nbconvert_exporter": "python",
   "pygments_lexer": "ipython3",
   "version": "3.9.16"
  }
 },
 "nbformat": 4,
 "nbformat_minor": 5
}
