{
 "cells": [
  {
   "cell_type": "markdown",
   "id": "c0e3e3b4-df70-4c88-afd8-51fd9dd99d51",
   "metadata": {},
   "source": [
    "# Filter sequences with known multimeric state"
   ]
  },
  {
   "cell_type": "markdown",
   "id": "afbec091-2dde-43f0-b6b4-baa411baf622",
   "metadata": {},
   "source": [
    "Took the proteins from https://www.ebi.ac.uk/pdbe/pisa/ and their multimeric state. Found a set of non-redundant proteins with known oligomeric state\n",
    "\n",
    "Might still need to think about cases where free energy is undefined. Also when the free energy is pisa but the pisa structure is not a monomer"
   ]
  },
  {
   "cell_type": "code",
   "execution_count": 2,
   "id": "be7cb902-926a-45bf-9eae-ab2039695a04",
   "metadata": {},
   "outputs": [],
   "source": [
    "# imports \n",
    "from Bio import SeqIO\n",
    "import pandas as pd\n",
    "import seaborn as sns \n",
    "from collections import Counter\n",
    "import re\n",
    "import json \n",
    "import matplotlib.pyplot as plt\n",
    "import numpy as np"
   ]
  },
  {
   "cell_type": "markdown",
   "id": "ae723a13-0014-4dd4-a250-513da8bb1d1e",
   "metadata": {},
   "source": [
    "Amino acid sequences of proteins in the pdb"
   ]
  },
  {
   "cell_type": "code",
   "execution_count": 3,
   "id": "6d278d72-7c12-4fc8-93ea-d9ed4ca41898",
   "metadata": {},
   "outputs": [],
   "source": [
    "# read in the sequences \n",
    "fasta_dict = SeqIO.to_dict(SeqIO.parse(\"pdb_seqres.txt\", \"fasta\")) # fasta of all sequences in the pdb as of 18/11/2024\n",
    "fasta_keys = list(fasta_dict.keys())"
   ]
  },
  {
   "cell_type": "markdown",
   "id": "d846a721-201d-42ae-ad14-ab0308e388b0",
   "metadata": {},
   "source": [
    "PISA multimer predictions of proteins in the pdb"
   ]
  },
  {
   "cell_type": "code",
   "execution_count": 4,
   "id": "3dee3041-f244-47bb-b6a0-acaf49bb3686",
   "metadata": {},
   "outputs": [],
   "source": [
    "# read in the sequences in pisa \n",
    "pisa = pd.read_csv('dbsres.dat', delim_whitespace=True, skiprows=1)\n",
    "pisa = pisa[['No.', 'sq.A', 'sq.A.1', 'kcal/mol']].reset_index().drop('level_0', axis=1)\n",
    "pisa.columns = ['PDB_id', 'mmSize', 'Sym. num.', 'ASA sq.A', 'BSA sq.A', 'Delta G kcal/mol' ] "
   ]
  },
  {
   "cell_type": "code",
   "execution_count": 5,
   "id": "c52657d5-6415-48dc-b6b4-6da23e117b49",
   "metadata": {},
   "outputs": [
    {
     "data": {
      "text/html": [
       "<div>\n",
       "<style scoped>\n",
       "    .dataframe tbody tr th:only-of-type {\n",
       "        vertical-align: middle;\n",
       "    }\n",
       "\n",
       "    .dataframe tbody tr th {\n",
       "        vertical-align: top;\n",
       "    }\n",
       "\n",
       "    .dataframe thead th {\n",
       "        text-align: right;\n",
       "    }\n",
       "</style>\n",
       "<table border=\"1\" class=\"dataframe\">\n",
       "  <thead>\n",
       "    <tr style=\"text-align: right;\">\n",
       "      <th></th>\n",
       "      <th>PDB_id</th>\n",
       "      <th>mmSize</th>\n",
       "      <th>Sym. num.</th>\n",
       "      <th>ASA sq.A</th>\n",
       "      <th>BSA sq.A</th>\n",
       "      <th>Delta G kcal/mol</th>\n",
       "    </tr>\n",
       "  </thead>\n",
       "  <tbody>\n",
       "    <tr>\n",
       "      <th>0</th>\n",
       "      <td>6zlz</td>\n",
       "      <td>360</td>\n",
       "      <td>60</td>\n",
       "      <td>4118668.5</td>\n",
       "      <td>4287972.1</td>\n",
       "      <td>15688.2</td>\n",
       "    </tr>\n",
       "    <tr>\n",
       "      <th>1</th>\n",
       "      <td>1sva</td>\n",
       "      <td>360</td>\n",
       "      <td>60</td>\n",
       "      <td>4585341.7</td>\n",
       "      <td>13915.4</td>\n",
       "      <td>NaN</td>\n",
       "    </tr>\n",
       "    <tr>\n",
       "      <th>2</th>\n",
       "      <td>1sie</td>\n",
       "      <td>360</td>\n",
       "      <td>60</td>\n",
       "      <td>4145159.6</td>\n",
       "      <td>6720.1</td>\n",
       "      <td>NaN</td>\n",
       "    </tr>\n",
       "    <tr>\n",
       "      <th>3</th>\n",
       "      <td>1sid</td>\n",
       "      <td>360</td>\n",
       "      <td>60</td>\n",
       "      <td>4174291.9</td>\n",
       "      <td>6455.0</td>\n",
       "      <td>NaN</td>\n",
       "    </tr>\n",
       "    <tr>\n",
       "      <th>4</th>\n",
       "      <td>2qa0</td>\n",
       "      <td>60</td>\n",
       "      <td>60</td>\n",
       "      <td>790256.6</td>\n",
       "      <td>994224.3</td>\n",
       "      <td>6199.0</td>\n",
       "    </tr>\n",
       "    <tr>\n",
       "      <th>...</th>\n",
       "      <td>...</td>\n",
       "      <td>...</td>\n",
       "      <td>...</td>\n",
       "      <td>...</td>\n",
       "      <td>...</td>\n",
       "      <td>...</td>\n",
       "    </tr>\n",
       "    <tr>\n",
       "      <th>118781</th>\n",
       "      <td>3zm5</td>\n",
       "      <td>1</td>\n",
       "      <td>1</td>\n",
       "      <td>20693.7</td>\n",
       "      <td>0.0</td>\n",
       "      <td>0.0</td>\n",
       "    </tr>\n",
       "    <tr>\n",
       "      <th>118782</th>\n",
       "      <td>3zm4</td>\n",
       "      <td>1</td>\n",
       "      <td>1</td>\n",
       "      <td>15246.0</td>\n",
       "      <td>0.0</td>\n",
       "      <td>0.0</td>\n",
       "    </tr>\n",
       "    <tr>\n",
       "      <th>118783</th>\n",
       "      <td>3zly</td>\n",
       "      <td>1</td>\n",
       "      <td>1</td>\n",
       "      <td>15181.2</td>\n",
       "      <td>0.0</td>\n",
       "      <td>0.0</td>\n",
       "    </tr>\n",
       "    <tr>\n",
       "      <th>118784</th>\n",
       "      <td>3zlx</td>\n",
       "      <td>1</td>\n",
       "      <td>1</td>\n",
       "      <td>15126.3</td>\n",
       "      <td>0.0</td>\n",
       "      <td>0.0</td>\n",
       "    </tr>\n",
       "    <tr>\n",
       "      <th>118785</th>\n",
       "      <td>3zlw</td>\n",
       "      <td>1</td>\n",
       "      <td>1</td>\n",
       "      <td>14982.6</td>\n",
       "      <td>0.0</td>\n",
       "      <td>0.0</td>\n",
       "    </tr>\n",
       "  </tbody>\n",
       "</table>\n",
       "<p>118786 rows × 6 columns</p>\n",
       "</div>"
      ],
      "text/plain": [
       "       PDB_id  mmSize  Sym. num.   ASA sq.A   BSA sq.A  Delta G kcal/mol\n",
       "0        6zlz     360         60  4118668.5  4287972.1           15688.2\n",
       "1        1sva     360         60  4585341.7    13915.4               NaN\n",
       "2        1sie     360         60  4145159.6     6720.1               NaN\n",
       "3        1sid     360         60  4174291.9     6455.0               NaN\n",
       "4        2qa0      60         60   790256.6   994224.3            6199.0\n",
       "...       ...     ...        ...        ...        ...               ...\n",
       "118781   3zm5       1          1    20693.7        0.0               0.0\n",
       "118782   3zm4       1          1    15246.0        0.0               0.0\n",
       "118783   3zly       1          1    15181.2        0.0               0.0\n",
       "118784   3zlx       1          1    15126.3        0.0               0.0\n",
       "118785   3zlw       1          1    14982.6        0.0               0.0\n",
       "\n",
       "[118786 rows x 6 columns]"
      ]
     },
     "execution_count": 5,
     "metadata": {},
     "output_type": "execute_result"
    }
   ],
   "source": [
    "pisa"
   ]
  },
  {
   "cell_type": "markdown",
   "id": "7c6309f2-ec70-44ca-acb8-acf099313b43",
   "metadata": {},
   "source": [
    "Plot the distribution of proteins by their oligomeric state"
   ]
  },
  {
   "cell_type": "code",
   "execution_count": 5,
   "id": "4d5d70b7-87f9-469f-93a5-00fe12ceb1be",
   "metadata": {},
   "outputs": [
    {
     "name": "stderr",
     "output_type": "stream",
     "text": [
      "<ipython-input-5-af8f90f8c04c>:2: UserWarning: \n",
      "\n",
      "`distplot` is a deprecated function and will be removed in seaborn v0.14.0.\n",
      "\n",
      "Please adapt your code to use either `displot` (a figure-level function with\n",
      "similar flexibility) or `histplot` (an axes-level function for histograms).\n",
      "\n",
      "For a guide to updating your code to use the new functions, please see\n",
      "https://gist.github.com/mwaskom/de44147ed2974457ad6372750bbe5751\n",
      "\n",
      "  sns.distplot(pisa['mmSize'])\n"
     ]
    },
    {
     "data": {
      "text/plain": [
       "(0.0, 20.0)"
      ]
     },
     "execution_count": 5,
     "metadata": {},
     "output_type": "execute_result"
    },
    {
     "data": {
      "image/png": "[encoded data removed]",
      "text/plain": [
       "<Figure size 432x288 with 1 Axes>"
      ]
     },
     "metadata": {
      "needs_background": "light"
     },
     "output_type": "display_data"
    }
   ],
   "source": [
    "homomer_counts = pd.DataFrame.from_dict(Counter(pisa['mmSize']), orient='index').sort_index()\n",
    "sns.distplot(pisa['mmSize'])\n",
    "plt.xlim((0,20)) "
   ]
  },
  {
   "cell_type": "markdown",
   "id": "c7312389-cbb9-44a9-834b-f8c967ac1179",
   "metadata": {},
   "source": [
    "Can see that not much occurs with multiplicity greater than 12 - removed these sequences "
   ]
  },
  {
   "cell_type": "code",
   "execution_count": 6,
   "id": "99dbbd7e-d5e9-4dc8-a47d-b322bdbe324f",
   "metadata": {},
   "outputs": [],
   "source": [
    "pisa_12less = pisa[pisa['mmSize'] <= 12].reset_index() # remove anything with multiplicity greater than 12 \n"
   ]
  },
  {
   "cell_type": "markdown",
   "id": "ec3f2582-8a8c-49e4-9212-00e24aacbaf4",
   "metadata": {},
   "source": [
    "There are some inconsistencies. For example 6j1u is a trimer in the pdb. Maybe go back and make comparisons between these and the ser uploaded ones for these incorrect predictions "
   ]
  },
  {
   "cell_type": "code",
   "execution_count": 7,
   "id": "79f3b5f0-caf3-4d4a-b4ce-992648bf522b",
   "metadata": {},
   "outputs": [
    {
     "data": {
      "text/html": [
       "<div>\n",
       "<style scoped>\n",
       "    .dataframe tbody tr th:only-of-type {\n",
       "        vertical-align: middle;\n",
       "    }\n",
       "\n",
       "    .dataframe tbody tr th {\n",
       "        vertical-align: top;\n",
       "    }\n",
       "\n",
       "    .dataframe thead th {\n",
       "        text-align: right;\n",
       "    }\n",
       "</style>\n",
       "<table border=\"1\" class=\"dataframe\">\n",
       "  <thead>\n",
       "    <tr style=\"text-align: right;\">\n",
       "      <th></th>\n",
       "      <th>index</th>\n",
       "      <th>PDB_id</th>\n",
       "      <th>mmSize</th>\n",
       "      <th>Sym. num.</th>\n",
       "      <th>ASA sq.A</th>\n",
       "      <th>BSA sq.A</th>\n",
       "      <th>Delta G kcal/mol</th>\n",
       "    </tr>\n",
       "  </thead>\n",
       "  <tbody>\n",
       "    <tr>\n",
       "      <th>60442</th>\n",
       "      <td>61316</td>\n",
       "      <td>2osu</td>\n",
       "      <td>4</td>\n",
       "      <td>4</td>\n",
       "      <td>48226.3</td>\n",
       "      <td>6086.0</td>\n",
       "      <td>0.0</td>\n",
       "    </tr>\n",
       "    <tr>\n",
       "      <th>60443</th>\n",
       "      <td>61317</td>\n",
       "      <td>1pi5</td>\n",
       "      <td>2</td>\n",
       "      <td>2</td>\n",
       "      <td>28094.9</td>\n",
       "      <td>3233.1</td>\n",
       "      <td>0.0</td>\n",
       "    </tr>\n",
       "    <tr>\n",
       "      <th>60444</th>\n",
       "      <td>61318</td>\n",
       "      <td>4dt5</td>\n",
       "      <td>2</td>\n",
       "      <td>2</td>\n",
       "      <td>11607.6</td>\n",
       "      <td>2720.9</td>\n",
       "      <td>0.0</td>\n",
       "    </tr>\n",
       "    <tr>\n",
       "      <th>60445</th>\n",
       "      <td>61319</td>\n",
       "      <td>2gn3</td>\n",
       "      <td>2</td>\n",
       "      <td>2</td>\n",
       "      <td>17972.9</td>\n",
       "      <td>2608.0</td>\n",
       "      <td>0.0</td>\n",
       "    </tr>\n",
       "    <tr>\n",
       "      <th>60446</th>\n",
       "      <td>61320</td>\n",
       "      <td>4oci</td>\n",
       "      <td>2</td>\n",
       "      <td>2</td>\n",
       "      <td>14094.0</td>\n",
       "      <td>3481.3</td>\n",
       "      <td>0.0</td>\n",
       "    </tr>\n",
       "    <tr>\n",
       "      <th>...</th>\n",
       "      <td>...</td>\n",
       "      <td>...</td>\n",
       "      <td>...</td>\n",
       "      <td>...</td>\n",
       "      <td>...</td>\n",
       "      <td>...</td>\n",
       "      <td>...</td>\n",
       "    </tr>\n",
       "    <tr>\n",
       "      <th>60553</th>\n",
       "      <td>61427</td>\n",
       "      <td>4eh1</td>\n",
       "      <td>2</td>\n",
       "      <td>1</td>\n",
       "      <td>20939.4</td>\n",
       "      <td>6240.7</td>\n",
       "      <td>0.0</td>\n",
       "    </tr>\n",
       "    <tr>\n",
       "      <th>60555</th>\n",
       "      <td>61429</td>\n",
       "      <td>6gtt</td>\n",
       "      <td>2</td>\n",
       "      <td>2</td>\n",
       "      <td>28538.5</td>\n",
       "      <td>4045.4</td>\n",
       "      <td>0.0</td>\n",
       "    </tr>\n",
       "    <tr>\n",
       "      <th>60556</th>\n",
       "      <td>61430</td>\n",
       "      <td>6n0v</td>\n",
       "      <td>4</td>\n",
       "      <td>4</td>\n",
       "      <td>67647.8</td>\n",
       "      <td>13741.3</td>\n",
       "      <td>0.0</td>\n",
       "    </tr>\n",
       "    <tr>\n",
       "      <th>60557</th>\n",
       "      <td>61431</td>\n",
       "      <td>6dm3</td>\n",
       "      <td>2</td>\n",
       "      <td>2</td>\n",
       "      <td>12396.1</td>\n",
       "      <td>1339.9</td>\n",
       "      <td>0.0</td>\n",
       "    </tr>\n",
       "    <tr>\n",
       "      <th>60559</th>\n",
       "      <td>61433</td>\n",
       "      <td>1wlw</td>\n",
       "      <td>2</td>\n",
       "      <td>2</td>\n",
       "      <td>11942.6</td>\n",
       "      <td>3393.1</td>\n",
       "      <td>0.0</td>\n",
       "    </tr>\n",
       "  </tbody>\n",
       "</table>\n",
       "<p>103 rows × 7 columns</p>\n",
       "</div>"
      ],
      "text/plain": [
       "       index PDB_id  mmSize  Sym. num.  ASA sq.A  BSA sq.A  Delta G kcal/mol\n",
       "60442  61316   2osu       4          4   48226.3    6086.0               0.0\n",
       "60443  61317   1pi5       2          2   28094.9    3233.1               0.0\n",
       "60444  61318   4dt5       2          2   11607.6    2720.9               0.0\n",
       "60445  61319   2gn3       2          2   17972.9    2608.0               0.0\n",
       "60446  61320   4oci       2          2   14094.0    3481.3               0.0\n",
       "...      ...    ...     ...        ...       ...       ...               ...\n",
       "60553  61427   4eh1       2          1   20939.4    6240.7               0.0\n",
       "60555  61429   6gtt       2          2   28538.5    4045.4               0.0\n",
       "60556  61430   6n0v       4          4   67647.8   13741.3               0.0\n",
       "60557  61431   6dm3       2          2   12396.1    1339.9               0.0\n",
       "60559  61433   1wlw       2          2   11942.6    3393.1               0.0\n",
       "\n",
       "[103 rows x 7 columns]"
      ]
     },
     "execution_count": 7,
     "metadata": {},
     "output_type": "execute_result"
    }
   ],
   "source": [
    "monomers = pisa_12less[pisa_12less['mmSize'] != 1]\n",
    "monomers[monomers['Delta G kcal/mol'] == 0]"
   ]
  },
  {
   "cell_type": "markdown",
   "id": "82f0ea80-4343-4475-b359-77435f7b462a",
   "metadata": {},
   "source": [
    "# Deal with 'obsolete entries' \n",
    "\n",
    "Some of the proteins in PISA have since been removed or moved to a different pdb id. Update or removed these sequences. "
   ]
  },
  {
   "cell_type": "code",
   "execution_count": 8,
   "id": "fa37df39-fd2e-4c22-935f-25e548421f0d",
   "metadata": {},
   "outputs": [],
   "source": [
    "# read in obsolete entries so they can be mapped \n",
    "with open('all_removed_entries.json', 'r') as file:\n",
    "    obsolete = json.load(file)  # data is now a dictionary\n",
    "    \n",
    "# read in obsolete entries     \n",
    "obsolete_keys = [item.lower() for item in obsolete]\n",
    "obsolete = dict(zip(obsolete_keys, obsolete.values()))\n",
    "\n",
    "# get the obsolete sequences in pisa \n",
    "pisa_obsolete = set(pisa['PDB_id']).intersection(set(obsolete_keys))"
   ]
  },
  {
   "cell_type": "code",
   "execution_count": 9,
   "id": "9919eb8f-1474-4959-9ffe-e99743041d12",
   "metadata": {},
   "outputs": [
    {
     "name": "stdout",
     "output_type": "stream",
     "text": [
      "Entry obsoleted in response to US Office of Research Integrity Notice 2018-07782\n",
      "\n",
      "THIS ENTRY WAS WITHDRAWN AT THE REQUEST OF THE AUTHOR\n",
      "\n",
      "The entry is obsoleted due to paper retraction.\n",
      "\n",
      "The entry is obsoleted due to paper retraction\n",
      "\n",
      "Obsoletion upon authors request, no known superseding entry\n",
      "\n",
      "THE ENTRY IS OBSOLETED PER AUTHORS REQUEST SINCE IT IS DUPLICATE OF 5WH8\n",
      "\n",
      "The entry is obsoleted due to paper retraction\n",
      "\n",
      "Released prematurely\n",
      "\n",
      "The author states that the structure is incorrect and that re-refine entry will be available later.\n",
      "\n",
      "THIS ENTRY IS FROM THE WRONG SAMPLE AND WAS WITHDRAWN AT THE REQUEST OF THE AUTHOR.\n",
      "\n",
      "Based on a recent review of the data, it appears the wrong structure factors were submitted with the coordinates.   The overall structure of the protein is correct, however the active site ligand was misinterpreted.\n",
      "\n",
      "Entry obsoleted in response to US Office of Research Integrity Notice 2018-07782\n",
      "\n",
      "PDB ENTRY 4M7N HAS BEEN MADE OBSOLETE BECAUSE IT IS IDENTICAL TO PDB ENTRY 4IEB AND THEREFORE REDUNDANT.\n",
      "\n",
      "Obsoletion upon authors request, no superseding entry\n",
      "\n",
      "THIS ENTRY WAS MADE OBSOLETE BECAUSE ADDITIONAL NON-CRYSTALLOGRAPHIC EVIDENCE INDICATES THAT THE LIGAND UNDERGOES CHEMICAL MODIFICATION/DECOMPOSITION, MAKING ACCURATE INTERPRETATION OF THE DISORDERED ELECTRON DENSITY IMPOSSIBLE.\n",
      "\n",
      "Based on a recent review of the data, it appears the wrong structure factors were submitted with the coordinates.   The overall structure of the protein is correct, however the active site ligand was misinterpreted.\n",
      "\n",
      "The entry is obsoleted due to paper retraction\n",
      "\n",
      "THE ENTRY IS OBSOLETED PER AUTHORS REQUEST\n",
      "\n",
      "The atuhor stated that the disulfides pattern of this peptide was incorrect.\n",
      "\n",
      "The entry is obsoleted due to paper retraction\n",
      "\n",
      "The entry was obsoleted because the party who owns the intellectual property requested to remove the structure from the paper and to retract the retracted files from PDB as well.\n",
      "\n",
      "Entry obsoleted in response to US Office of Research Integrity Notice 2018-07782\n",
      "\n",
      "THE ENTRY WAS OBSOLETED UPON AUTHOR REQUEST.\n",
      "\n",
      "Obsoletion without superseding\n",
      "\n",
      "Entry obsoleted in response to US Office of Research Integrity Notice 2018-07782\n",
      "\n",
      "This entry is obsoleted per authors request because of an error in the structure. primary citation was never published\n",
      "\n",
      "Obsoletion upon authors request, no known superseding entry\n",
      "\n",
      "Obsoletion upon authors request, no known superseding entry\n",
      "\n",
      "Entry obsoleted in response to US Office of Research Integrity Notice 2018-07782\n",
      "\n",
      "Obsoletion upon authors request, no known superseding entry\n",
      "\n",
      "The entry is obsoleted due to paper retraction\n",
      "\n",
      "The entry is obsoleted due to paper retraction\n",
      "\n",
      "THIS ENTRY WAS OBSOLETED DUE TO AN ERROR DISCOVERED BY THE AUTHORS\n",
      "\n",
      "This entry is obsoleted per authors request because of an error in the structure. primary citation was never published\n",
      "\n",
      "The entry is obsoleted due to paper retraction\n",
      "\n",
      "THE ENTRY IS OBSOLETED PER AUTHORS REQUEST\n",
      "\n"
     ]
    }
   ],
   "source": [
    "removed = [] # sequences removed from the pdb \n",
    "replacements = [] \n",
    "originals = [] \n",
    "\n",
    "for i in list(pisa_obsolete): \n",
    "    details = obsolete.get(i)\n",
    "     \n",
    "      \n",
    "    if 'superseded_by' in details.keys(): \n",
    "        replacements.append(details.get('superseded_by')[0])\n",
    "        originals.append(i)\n",
    "    \n",
    "    else: \n",
    "        print(details.get('details') + '\\n')\n",
    "        removed.append(i) \n",
    "        "
   ]
  },
  {
   "cell_type": "code",
   "execution_count": 10,
   "id": "312ba2d9-6a8c-4ad4-ab0d-15bba127004e",
   "metadata": {},
   "outputs": [],
   "source": [
    "#read in the replacement entries \n",
    "obsolete_seqs = SeqIO.to_dict(SeqIO.parse(\"obsolete_replacements.faa\", \"fasta\"))\n",
    "new_keys = [re.split('\\|', i) for i in list(obsolete_seqs.keys())]\n",
    "new_keys = [n[0] if len(n)==3 else n[-1][4:] for n in new_keys]\n",
    "obsolete_seqs = dict(zip(new_keys, list(obsolete_seqs.values())))"
   ]
  },
  {
   "cell_type": "code",
   "execution_count": 11,
   "id": "d1a3dde3-647c-4285-bf90-a26345bcef4e",
   "metadata": {},
   "outputs": [],
   "source": [
    "# add the missing sequences to the dictionary \n",
    "for idx, o in enumerate(originals): \n",
    "    \n",
    "    fasta_dict[o] = obsolete_seqs.get(str.lower(replacements[idx]))\n",
    "    \n",
    "# manually add entry that gets lost (these got consolidated in a later versions)\n",
    "fasta_dict['6iqb'] = obsolete_seqs.get(str.lower('7c2d'))\n",
    "fasta_dict['6iq9'] = obsolete_seqs.get(str.lower('7c2d'))\n",
    "fasta_dict['6iq7'] = obsolete_seqs.get(str.lower('7c23'))\n",
    "fasta_dict['6iq8'] = obsolete_seqs.get(str.lower('7c29'))\n",
    "fasta_dict['4i1x'] = obsolete_seqs.get(str.lower('6ahi'))\n",
    "fasta_dict['6khw'] = obsolete_seqs.get(str.lower('7y6m'))\n",
    "fasta_dict['7c0a'] = obsolete_seqs.get(str.lower('7vjn'))\n",
    "fasta_dict['4zrh'] = obsolete_seqs.get('5v3p')\n",
    "fasta_dict['4s19'] = obsolete_seqs.get('5yar')\n",
    "fasta_dict['4s06'] = obsolete_seqs.get('5z05')\n",
    "fasta_dict['3nyh'] = obsolete_seqs.get('7dlq')\n",
    "fasta_dict['3q9k'] = obsolete_seqs.get('7dn6')\n",
    "fasta_dict['3ql6'] = obsolete_seqs.get('7dn7')\n"
   ]
  },
  {
   "cell_type": "markdown",
   "id": "2cbaeeed-b3e2-474f-a3ac-53de49080833",
   "metadata": {},
   "source": [
    "# Filter to find the entries with more than one sequence listed \n",
    "\n",
    "Even though I selected 'homomer' in pisa, some pdb entries have more than one seqence listed. Do not consider these entries"
   ]
  },
  {
   "cell_type": "code",
   "execution_count": 170,
   "id": "7dd3c10e-9bf1-4c37-9a36-973f39b0c3ac",
   "metadata": {},
   "outputs": [],
   "source": [
    "# Assuming fasta_keys is a list of strings and 'PDB_id' are substrings of interest\n",
    "\n",
    "# Create a mapping (dictionary) of PDB IDs to their corresponding keys for faster access\n",
    "from collections import defaultdict\n",
    "\n",
    "fasta_keys = list(fasta_dict.keys())\n",
    "\n",
    "pdb_map = defaultdict(list)\n",
    "for key in fasta_keys:\n",
    "    # Extract unique PDB identifiers from keys, modify extraction as per your exact pattern requirements\n",
    "    pdb_id = re.split('_', key)[0] \n",
    "    pdb_map[pdb_id].append(key)\n",
    "\n",
    "multi_sequence = []\n",
    "single_sequence = [] \n",
    "keep_seqs = [] \n",
    "\n",
    "for index, row in pisa_12less.iterrows():\n",
    "    # Direct lookup in dictionary instead of list comprehension\n",
    "    seqs = pdb_map.get(row['PDB_id'])\n",
    "    \n",
    "    # Generate set of unique sequences\n",
    "    seq_list = {str(fasta_dict[key].seq) for key in seqs}\n",
    "\n",
    "    # Check for heteromer condition\n",
    "    if len(seq_list) > 1:\n",
    "        multi_sequence.append(row['PDB_id'])\n",
    "    else: \n",
    "        single_sequence.append(row['PDB_id'])\n",
    "        keep_seqs.append(seqs[0])"
   ]
  },
  {
   "cell_type": "markdown",
   "id": "b041b3df-436b-4441-b9f3-83e3e9124afc",
   "metadata": {},
   "source": [
    "## write the resulting sequences to a fasta file "
   ]
  },
  {
   "cell_type": "code",
   "execution_count": 167,
   "id": "d2e06fc7-6499-4f70-88b7-7cc6d60cbd44",
   "metadata": {},
   "outputs": [],
   "source": [
    "fasta_out = [fasta_dict.get(k) for k in keep_seqs] \n",
    "for idx, f in enumerate(fasta_out): \n",
    "    f.id = single_sequence[idx] \n",
    "    f.description = '' \n",
    "             \n",
    "\n",
    "# Open the output file for writing\n",
    "with open(\"filtered_seqs.faa\", \"w\") as output_handle:\n",
    "    for record in fasta_out:\n",
    "        # Write the header line\n",
    "        output_handle.write(f\">{record.id}\\n\")\n",
    "        \n",
    "        # Write the full sequence on one line\n",
    "        output_handle.write(str(record.seq) + \"\\n\")"
   ]
  },
  {
   "cell_type": "markdown",
   "id": "c07e27a5-91d9-4445-8de4-d0c59f0a3434",
   "metadata": {},
   "source": [
    "Sequences were then clustered with mmseqs easy-cluster \n",
    "\n",
    "`mmseqs easy-cluster filtered_seqs.faa  cluster_pisa_minseqid0.9_c0.8  ./tmpppp --min-seq-id 0.9 -c 0.8 --cov-mode 1`\n",
    "\n",
    "This was repeated using different values of `--min-seq-id` "
   ]
  },
  {
   "cell_type": "markdown",
   "id": "6abaee7a-2d58-4eca-8c56-a58eb30a817f",
   "metadata": {},
   "source": [
    "# Determine a set of non-redundant sequences with known state"
   ]
  },
  {
   "cell_type": "code",
   "execution_count": 7,
   "id": "b22f95a4-aa7d-42ab-8eca-5ab452f744a7",
   "metadata": {},
   "outputs": [
    {
     "name": "stdout",
     "output_type": "stream",
     "text": [
      "0.2\n",
      "0.3\n",
      "0.4\n",
      "0.5\n",
      "0.6\n",
      "0.7\n",
      "0.8\n",
      "0.9\n",
      "0.95\n",
      "0.99\n",
      "1.0\n"
     ]
    }
   ],
   "source": [
    "seqid = [0.2, 0.3, 0.4, 0.5, 0.6, 0.7, 0.8, 0.9, 0.95, 0.99, 1.0] \n",
    "num_clusters = [] \n",
    "mmsize_dominance_list = []\n",
    "mmsize_dominance_weighted_list = [] \n",
    "cluster_size_list = [] \n",
    "\n",
    "symnum_dominance_list = [] \n",
    "seqid_list = [] \n",
    "\n",
    "tab_stack_counts_list = [] \n",
    "\n",
    "mmsize_dict = dict(zip(pisa_12less['PDB_id'], pisa_12less['mmSize'])) \n",
    "symnum_dict = dict(zip(pisa_12less['PDB_id'], pisa_12less['Sym. num.'])) \n",
    "\n",
    "for c in seqid: \n",
    "    \n",
    "    print(c)\n",
    "    \n",
    "    tab_file = 'cluster_pisa_minseqid' + str(c) + '_c0.8_cluster.tsv' \n",
    "    tab = pd.read_csv(tab_file, sep = '\\t', header=None)\n",
    "    tab['mmsize'] = [mmsize_dict.get(t) for t in tab[1]]\n",
    "    tab['symnum'] = [symnum_dict.get(t) for t in tab[1]]\n",
    "    num_clusters.append(len(list(set(tab[0]))))\n",
    "    \n",
    "    tab_stack = tab.groupby(0).agg({ 1: list,'mmsize': list,'symnum': list }).reset_index() \n",
    "    tab_stack['mmsize dominance'] = [max(Counter(t).values())/len(t) for t in tab_stack['mmsize']]  #TODO - maybe this dominance score needs to be normalised by the number of sequences in the cluster\n",
    "    mmsize_dominance_list.extend(tab_stack['mmsize dominance']) \n",
    "    tab_stack['symnum dominance'] = [max(Counter(t).values())/len(t) for t in tab_stack['symnum']]  #TODO - maybe this purity score needs to be normalised by the number of sequences in the cluster\n",
    "    symnum_dominance_list.extend(tab_stack['mmsize dominance']) \n",
    "    \n",
    "    tab_stack['mmsize dominance size-weighted'] = [(max(Counter(t).values())/len(t))/(1/(1+(1/len(t)))) for t in tab_stack['mmsize']]  #TODO - maybe this dominance score needs to be normalised by the number of sequences in the cluster\n",
    "    mmsize_dominance_weighted_list.extend(tab_stack['mmsize dominance size-weighted']) \n",
    "    \n",
    "    tab_stack['seqid'] = c\n",
    "    seqid_list.extend(tab_stack['seqid'])\n",
    "    cluster_size_list.extend([len(t) for t in tab_stack[1]]) \n",
    "    \n",
    "    tab_stack_counts = [Counter(t) for t in tab_stack['mmsize']]\n",
    "    tab_stack_counts = [max(cc, key=cc.get) for cc in tab_stack_counts]\n",
    "    tab_stack_counts_list.append(tab_stack_counts)\n"
   ]
  },
  {
   "cell_type": "code",
   "execution_count": 21,
   "id": "39bf2a89-f970-4098-b4df-a2433f42162f",
   "metadata": {},
   "outputs": [],
   "source": [
    "# need to consider that high dominance is better for big clusters. Need to incorporate this consideration into the calculation \n",
    "# Big clusters should be priortised over small clusters (small with a dominance of 1 doesn't really mean anything)"
   ]
  },
  {
   "cell_type": "code",
   "execution_count": 32,
   "id": "c07ee14f-6968-4ee8-883c-a90650f77678",
   "metadata": {},
   "outputs": [],
   "source": [
    "cluster_size_df = pd.DataFrame({'seqid': seqid_list, 'cluster size': cluster_size_list, 'dominance': mmsize_dominance_list}) \n",
    "num_clusters_df = pd.DataFrame({'seqid': seqid, 'num_clusters': num_clusters})"
   ]
  },
  {
   "cell_type": "markdown",
   "id": "115cd864-f658-4c42-9a59-70c531f1e83f",
   "metadata": {},
   "source": [
    "### Plot the number of clusters"
   ]
  },
  {
   "cell_type": "code",
   "execution_count": 24,
   "id": "acf0b443-6d07-47ae-9a23-7c933d78a6da",
   "metadata": {},
   "outputs": [
    {
     "data": {
      "image/png": "[encoded data removed]",
      "text/plain": [
       "<Figure size 432x288 with 1 Axes>"
      ]
     },
     "metadata": {
      "needs_background": "light"
     },
     "output_type": "display_data"
    }
   ],
   "source": [
    "singleton_df = pd.DataFrame.from_dict(Counter(cluster_size_df[cluster_size_df['cluster size'] == 1]['seqid']), orient = 'index').reset_index()\n",
    "nonsingleton_df = pd.DataFrame.from_dict(Counter(cluster_size_df[cluster_size_df['cluster size'] != 1]['seqid']), orient = 'index').reset_index()\n",
    "\n",
    "# Create the plot with labels\n",
    "sns.lineplot(data=num_clusters_df, x='seqid', y='num_clusters', label='Total')\n",
    "sns.lineplot(data=singleton_df, x='index', y=0, label='Singleton clusters')\n",
    "sns.lineplot(data=nonsingleton_df, x='index', y=0, label='Non-singleton clusters')\n",
    "\n",
    "# Add a title and legend\n",
    "plt.legend(title='Cluster Types')\n",
    "plt.xlabel('Sequence identity')\n",
    "plt.ylabel('Number of clusters')\n",
    "\n",
    "# Show the plot\n",
    "plt.show()"
   ]
  },
  {
   "cell_type": "markdown",
   "id": "f05a7a28-b323-42df-8660-856f5d227401",
   "metadata": {},
   "source": [
    "### Plot of cluster size and dominance of the non-singleton clusters"
   ]
  },
  {
   "cell_type": "code",
   "execution_count": 35,
   "id": "285c08f4-7494-4d29-8930-ec0970c286a4",
   "metadata": {},
   "outputs": [
    {
     "data": {
      "text/plain": [
       "Text(0, 0.5, 'Mean Berger-Parker index')"
      ]
     },
     "execution_count": 35,
     "metadata": {},
     "output_type": "execute_result"
    },
    {
     "data": {
      "image/png": "[encoded data removed]",
      "text/plain": [
       "<Figure size 432x288 with 1 Axes>"
      ]
     },
     "metadata": {
      "needs_background": "light"
     },
     "output_type": "display_data"
    }
   ],
   "source": [
    "df = cluster_size_df[cluster_size_df['cluster size'] != 1]\n",
    "#df['dominance'] = mmsize_dominance_list\n",
    "sns.lineplot(data=df, x = 'seqid', y='dominance') # average dominance of non-singleton clusters \n",
    "plt.xlabel('Sequence Identity')\n",
    "plt.ylabel('Mean Berger-Parker index')"
   ]
  },
  {
   "cell_type": "code",
   "execution_count": 82,
   "id": "303316fa-29f2-4c1f-9318-9219b732fae8",
   "metadata": {},
   "outputs": [
    {
     "data": {
      "text/plain": [
       "<AxesSubplot:xlabel='seqid', ylabel='cluster size'>"
      ]
     },
     "execution_count": 82,
     "metadata": {},
     "output_type": "execute_result"
    },
    {
     "data": {
      "image/png": "[encoded data removed]",
      "text/plain": [
       "<Figure size 432x288 with 1 Axes>"
      ]
     },
     "metadata": {
      "needs_background": "light"
     },
     "output_type": "display_data"
    }
   ],
   "source": [
    "sns.lineplot(data = df, x = 'seqid', y='cluster size')"
   ]
  },
  {
   "cell_type": "markdown",
   "id": "94db050f-1ba5-4384-99f3-3b3872b743e7",
   "metadata": {},
   "source": [
    "From this output - fold the non-singleton proteins first and the proteins with a sequence identity of 0.6 "
   ]
  },
  {
   "cell_type": "markdown",
   "id": "05661a25-85a0-4112-bf68-1e23a40dc964",
   "metadata": {},
   "source": [
    "# Select sequences for further analysis"
   ]
  },
  {
   "cell_type": "code",
   "execution_count": 149,
   "id": "f20fd2cb-92c8-4b1f-99c6-0e865e3f3e04",
   "metadata": {},
   "outputs": [],
   "source": [
    "clusters = pd.read_csv('cluster_pisa_minseqid0.6_c0.8_cluster.tsv', sep = '\\t', header = None)\n",
    "clusters = sequences.groupby(0).agg({1:list}) \n",
    "\n",
    "clusters['cluster size'] = [len(i) for i in clusters[1]] \n",
    "clusters[clusters['cluster size'] > 1]"
   ]
  },
  {
   "cell_type": "code",
   "execution_count": 185,
   "id": "98955a10-b087-4509-8eb0-963ed4b53970",
   "metadata": {},
   "outputs": [],
   "source": [
    "fasta_search = SeqIO.to_dict(SeqIO.parse(\"cluster_pisa_minseqid0.6_c0.8_rep_seq.fasta\", \"fasta\"))\n",
    "\n",
    "nonsingletons = [fasta_search.get(c) for c in  clusters[clusters['cluster size'] > 1].index]\n",
    "\n",
    "# Open the output file for writing\n",
    "with open(\"nonsingleton_cluster_pisa_minseqid0.6_c0.8_rep_seq.fasta\", \"w\") as output_handle:\n",
    "    for record in nonsingletons:\n",
    "        # Write the header line\n",
    "        output_handle.write(f\">{record.id}\\n\")\n",
    "        \n",
    "        # Write the full sequence on one line\n",
    "        output_handle.write(str(record.seq) + \"\\n\")"
   ]
  },
  {
   "cell_type": "code",
   "execution_count": null,
   "id": "0a17e138-b49a-4819-b656-5b947dbe45bf",
   "metadata": {},
   "outputs": [],
   "source": []
  }
 ],
 "metadata": {
  "kernelspec": {
   "display_name": "Python 3",
   "language": "python",
   "name": "python3"
  },
  "language_info": {
   "codemirror_mode": {
    "name": "ipython",
    "version": 3
   },
   "file_extension": ".py",
   "mimetype": "text/x-python",
   "name": "python",
   "nbconvert_exporter": "python",
   "pygments_lexer": "ipython3",
   "version": "3.9.16"
  }
 },
 "nbformat": 4,
 "nbformat_minor": 5
}
